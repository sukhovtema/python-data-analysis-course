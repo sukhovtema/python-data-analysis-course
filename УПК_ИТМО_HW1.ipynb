{
  "nbformat": 4,
  "nbformat_minor": 0,
  "metadata": {
    "colab": {
      "provenance": []
    },
    "kernelspec": {
      "name": "python3",
      "display_name": "Python 3"
    },
    "language_info": {
      "name": "python"
    }
  },
  "cells": [
    {
      "cell_type": "code",
      "execution_count": 1,
      "metadata": {
        "id": "adFn8A4qVZ2q"
      },
      "outputs": [],
      "source": [
        "class Chocolate:\n",
        "    def __init__(self, price: float, additive: str = None):\n",
        "        if price <= 0:\n",
        "            raise ValueError(\"Цена должна быть больше нуля\")\n",
        "        self.price = price\n",
        "        self.additive = additive\n",
        "\n",
        "    def show_my_chocolate(self):\n",
        "        if self.additive:\n",
        "            print(f\"Шоколадный батончик, добавка: {self.additive}\")\n",
        "        else:\n",
        "            print(\"Обычный шоколадный батончик\")\n",
        "\n",
        "    def __str__(self):\n",
        "        return f\"Шоколадный батончик, {self.price} рублей\""
      ]
    },
    {
      "cell_type": "markdown",
      "source": [
        "# Демонстрация работы класса"
      ],
      "metadata": {
        "id": "xIzPyf3SVq_C"
      }
    },
    {
      "cell_type": "code",
      "source": [
        "try:\n",
        "    choco1 = Chocolate(89.99, \"орехи\")\n",
        "    choco2 = Chocolate(49.50)\n",
        "    choco3 = Chocolate(120.0, \"кокос\")\n",
        "\n",
        "    choco1.show_my_chocolate()  # Шоколадный батончик, добавка: орехи\n",
        "    choco2.show_my_chocolate()  # Обычный шоколадный батончик\n",
        "\n",
        "    print(choco3)  # Шоколадный батончик, 120.0 рублей\n",
        "\n",
        "except ValueError as e:\n",
        "    print(f\"Ошибка: {e}\")"
      ],
      "metadata": {
        "colab": {
          "base_uri": "https://localhost:8080/"
        },
        "id": "OGRwz8xvVbQ9",
        "outputId": "3003ba8d-218f-416d-cd9a-74350fffb69e"
      },
      "execution_count": 4,
      "outputs": [
        {
          "output_type": "stream",
          "name": "stdout",
          "text": [
            "Шоколадный батончик, добавка: орехи\n",
            "Обычный шоколадный батончик\n",
            "Шоколадный батончик, 120.0 рублей\n"
          ]
        }
      ]
    },
    {
      "cell_type": "code",
      "source": [
        "try:\n",
        "    choco_bad = Chocolate(-50.0, \"изюм\")  # Это вызовет ValueError\n",
        "\n",
        "except ValueError as e:\n",
        "    print(e)"
      ],
      "metadata": {
        "colab": {
          "base_uri": "https://localhost:8080/"
        },
        "id": "0BPEEMQwVbTK",
        "outputId": "66c011c0-72b4-4282-e74d-85dee926f53d"
      },
      "execution_count": 5,
      "outputs": [
        {
          "output_type": "stream",
          "name": "stdout",
          "text": [
            "Цена должна быть больше нуля\n"
          ]
        }
      ]
    }
  ]
}