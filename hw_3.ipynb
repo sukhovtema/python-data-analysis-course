{
  "nbformat": 4,
  "nbformat_minor": 0,
  "metadata": {
    "colab": {
      "provenance": []
    },
    "kernelspec": {
      "name": "python3",
      "display_name": "Python 3"
    },
    "language_info": {
      "name": "python"
    }
  },
  "cells": [
    {
      "cell_type": "markdown",
      "source": [
        "Загрузка данных (1 балл)"
      ],
      "metadata": {
        "id": "DS7YuBnsfD1u"
      }
    },
    {
      "cell_type": "code",
      "source": [
        "import pandas as pd\n",
        "\n",
        "# Загрузка данных\n",
        "df = pd.read_csv('train.csv')\n",
        "\n",
        "# Проверка загрузки (первые 5 строк)\n",
        "print(df.head())"
      ],
      "metadata": {
        "colab": {
          "base_uri": "https://localhost:8080/"
        },
        "id": "bQ20mYaQfBRV",
        "outputId": "dd256f9c-fd13-438f-e1be-40dbadc95f07"
      },
      "execution_count": 1,
      "outputs": [
        {
          "output_type": "stream",
          "name": "stdout",
          "text": [
            "   PassengerId  Survived  Pclass  \\\n",
            "0            1         0       3   \n",
            "1            2         1       1   \n",
            "2            3         1       3   \n",
            "3            4         1       1   \n",
            "4            5         0       3   \n",
            "\n",
            "                                                Name     Sex   Age  SibSp  \\\n",
            "0                            Braund, Mr. Owen Harris    male  22.0      1   \n",
            "1  Cumings, Mrs. John Bradley (Florence Briggs Th...  female  38.0      1   \n",
            "2                             Heikkinen, Miss. Laina  female  26.0      0   \n",
            "3       Futrelle, Mrs. Jacques Heath (Lily May Peel)  female  35.0      1   \n",
            "4                           Allen, Mr. William Henry    male  35.0      0   \n",
            "\n",
            "   Parch            Ticket     Fare Cabin Embarked  \n",
            "0      0         A/5 21171   7.2500   NaN        S  \n",
            "1      0          PC 17599  71.2833   C85        C  \n",
            "2      0  STON/O2. 3101282   7.9250   NaN        S  \n",
            "3      0            113803  53.1000  C123        S  \n",
            "4      0            373450   8.0500   NaN        S  \n"
          ]
        }
      ]
    },
    {
      "cell_type": "markdown",
      "source": [
        "Анализ данных (1 балл)"
      ],
      "metadata": {
        "id": "InBPf76gfJgQ"
      }
    },
    {
      "cell_type": "code",
      "source": [
        "# Основная информация о датасете\n",
        "print(df.info())\n",
        "\n",
        "# Описательная статистика\n",
        "print(df.describe())\n",
        "\n",
        "# Число пропусков в каждом столбце\n",
        "print(df.isnull().sum())"
      ],
      "metadata": {
        "colab": {
          "base_uri": "https://localhost:8080/"
        },
        "id": "RVggHuxHfBUB",
        "outputId": "0e1dde4a-b974-4e81-aedf-a8a12b48f4e8"
      },
      "execution_count": 2,
      "outputs": [
        {
          "output_type": "stream",
          "name": "stdout",
          "text": [
            "<class 'pandas.core.frame.DataFrame'>\n",
            "RangeIndex: 891 entries, 0 to 890\n",
            "Data columns (total 12 columns):\n",
            " #   Column       Non-Null Count  Dtype  \n",
            "---  ------       --------------  -----  \n",
            " 0   PassengerId  891 non-null    int64  \n",
            " 1   Survived     891 non-null    int64  \n",
            " 2   Pclass       891 non-null    int64  \n",
            " 3   Name         891 non-null    object \n",
            " 4   Sex          891 non-null    object \n",
            " 5   Age          714 non-null    float64\n",
            " 6   SibSp        891 non-null    int64  \n",
            " 7   Parch        891 non-null    int64  \n",
            " 8   Ticket       891 non-null    object \n",
            " 9   Fare         891 non-null    float64\n",
            " 10  Cabin        204 non-null    object \n",
            " 11  Embarked     889 non-null    object \n",
            "dtypes: float64(2), int64(5), object(5)\n",
            "memory usage: 83.7+ KB\n",
            "None\n",
            "       PassengerId    Survived      Pclass         Age       SibSp  \\\n",
            "count   891.000000  891.000000  891.000000  714.000000  891.000000   \n",
            "mean    446.000000    0.383838    2.308642   29.699118    0.523008   \n",
            "std     257.353842    0.486592    0.836071   14.526497    1.102743   \n",
            "min       1.000000    0.000000    1.000000    0.420000    0.000000   \n",
            "25%     223.500000    0.000000    2.000000   20.125000    0.000000   \n",
            "50%     446.000000    0.000000    3.000000   28.000000    0.000000   \n",
            "75%     668.500000    1.000000    3.000000   38.000000    1.000000   \n",
            "max     891.000000    1.000000    3.000000   80.000000    8.000000   \n",
            "\n",
            "            Parch        Fare  \n",
            "count  891.000000  891.000000  \n",
            "mean     0.381594   32.204208  \n",
            "std      0.806057   49.693429  \n",
            "min      0.000000    0.000000  \n",
            "25%      0.000000    7.910400  \n",
            "50%      0.000000   14.454200  \n",
            "75%      0.000000   31.000000  \n",
            "max      6.000000  512.329200  \n",
            "PassengerId      0\n",
            "Survived         0\n",
            "Pclass           0\n",
            "Name             0\n",
            "Sex              0\n",
            "Age            177\n",
            "SibSp            0\n",
            "Parch            0\n",
            "Ticket           0\n",
            "Fare             0\n",
            "Cabin          687\n",
            "Embarked         2\n",
            "dtype: int64\n"
          ]
        }
      ]
    },
    {
      "cell_type": "markdown",
      "source": [
        "Процент выживаемости по классам (1 балл)"
      ],
      "metadata": {
        "id": "L3Dl-wzhfMsN"
      }
    },
    {
      "cell_type": "code",
      "source": [
        "survival_by_class = df.groupby('Pclass')['Survived'].mean() * 100\n",
        "print(survival_by_class)"
      ],
      "metadata": {
        "colab": {
          "base_uri": "https://localhost:8080/"
        },
        "id": "lOIBp5zJfBWs",
        "outputId": "fa48142a-4278-4180-c8fa-390d89e45b4e"
      },
      "execution_count": 3,
      "outputs": [
        {
          "output_type": "stream",
          "name": "stdout",
          "text": [
            "Pclass\n",
            "1    62.962963\n",
            "2    47.282609\n",
            "3    24.236253\n",
            "Name: Survived, dtype: float64\n"
          ]
        }
      ]
    },
    {
      "cell_type": "markdown",
      "source": [
        "Самые популярные имена (1 балл)"
      ],
      "metadata": {
        "id": "30FmBDq4fPk4"
      }
    },
    {
      "cell_type": "code",
      "source": [
        "df['FirstName'] = df['Name'].str.split(', ').str[1].str.split('.').str[1].str.strip()\n",
        "\n",
        "male_names = df[df['Sex'] == 'male']['FirstName'].mode()\n",
        "female_names = df[df['Sex'] == 'female']['FirstName'].mode()\n",
        "\n",
        "print(\"Самое популярное мужское имя:\", male_names[0])\n",
        "print(\"Самое популярное женское имя:\", female_names[0])"
      ],
      "metadata": {
        "colab": {
          "base_uri": "https://localhost:8080/"
        },
        "id": "y99KonQHfBbU",
        "outputId": "b5db4344-76ab-46f6-d89a-dc2d30f6ee0a"
      },
      "execution_count": 4,
      "outputs": [
        {
          "output_type": "stream",
          "name": "stdout",
          "text": [
            "Самое популярное мужское имя: John\n",
            "Самое популярное женское имя: Mary\n"
          ]
        }
      ]
    },
    {
      "cell_type": "markdown",
      "source": [
        "Популярные имена по классам (2 балла)"
      ],
      "metadata": {
        "id": "r7BToDCAfTkA"
      }
    },
    {
      "cell_type": "code",
      "source": [
        "for pclass in sorted(df['Pclass'].unique()):\n",
        "    males = df[(df['Pclass'] == pclass) & (df['Sex'] == 'male')]['FirstName'].mode()\n",
        "    females = df[(df['Pclass'] == pclass) & (df['Sex'] == 'female')]['FirstName'].mode()\n",
        "    print(f\"Класс {pclass}: Мужское имя — {males[0]}, Женское имя — {females[0]}\")"
      ],
      "metadata": {
        "colab": {
          "base_uri": "https://localhost:8080/"
        },
        "id": "ZQLHQukufBdj",
        "outputId": "11474962-6325-4b73-91f6-32b07be45dfd"
      },
      "execution_count": 5,
      "outputs": [
        {
          "output_type": "stream",
          "name": "stdout",
          "text": [
            "Класс 1: Мужское имя — Charles H, Женское имя — (Edith Martha Bowerman)\n",
            "Класс 2: Мужское имя — William John, Женское имя — Bertha\n",
            "Класс 3: Мужское имя — James, Женское имя — Mary\n"
          ]
        }
      ]
    },
    {
      "cell_type": "markdown",
      "source": [
        "Пассажиры старше 44 лет (1 балл)"
      ],
      "metadata": {
        "id": "_SlR7kxtfXLg"
      }
    },
    {
      "cell_type": "code",
      "source": [
        "older_than_44 = df[df['Age'] > 44]\n",
        "print(older_than_44[['Name', 'Age', 'Pclass']])"
      ],
      "metadata": {
        "colab": {
          "base_uri": "https://localhost:8080/"
        },
        "id": "fiEw9yWPfBgL",
        "outputId": "3820e748-9e8e-4ded-bf2f-fbd2544b9341"
      },
      "execution_count": 7,
      "outputs": [
        {
          "output_type": "stream",
          "name": "stdout",
          "text": [
            "                                                  Name   Age  Pclass\n",
            "6                              McCarthy, Mr. Timothy J  54.0       1\n",
            "11                            Bonnell, Miss. Elizabeth  58.0       1\n",
            "15                    Hewlett, Mrs. (Mary D Kingcome)   55.0       2\n",
            "33                               Wheadon, Mr. Edward H  66.0       2\n",
            "52            Harper, Mrs. Henry Sleeper (Myna Haxtun)  49.0       1\n",
            "..                                                 ...   ...     ...\n",
            "857                             Daly, Mr. Peter Denis   51.0       1\n",
            "862  Swift, Mrs. Frederick Joel (Margaret Welles Ba...  48.0       1\n",
            "871   Beckwith, Mrs. Richard Leonard (Sallie Monypeny)  47.0       1\n",
            "873                        Vander Cruyssen, Mr. Victor  47.0       3\n",
            "879      Potter, Mrs. Thomas Jr (Lily Alexenia Wilson)  56.0       1\n",
            "\n",
            "[115 rows x 3 columns]\n"
          ]
        }
      ]
    },
    {
      "cell_type": "markdown",
      "source": [
        "Мужчины младше 44 лет (2 балла)"
      ],
      "metadata": {
        "id": "mFFEozyyfaHs"
      }
    },
    {
      "cell_type": "code",
      "source": [
        "young_males = df[(df['Age'] < 44) & (df['Sex'] == 'male')]\n",
        "print(young_males[['Name', 'Age', 'Pclass']])"
      ],
      "metadata": {
        "colab": {
          "base_uri": "https://localhost:8080/"
        },
        "id": "Xo1FVdCofWMB",
        "outputId": "10042d80-355b-41d8-d785-9024520fd974"
      },
      "execution_count": 8,
      "outputs": [
        {
          "output_type": "stream",
          "name": "stdout",
          "text": [
            "                               Name   Age  Pclass\n",
            "0           Braund, Mr. Owen Harris  22.0       3\n",
            "4          Allen, Mr. William Henry  35.0       3\n",
            "7    Palsson, Master. Gosta Leonard   2.0       3\n",
            "12   Saundercock, Mr. William Henry  20.0       3\n",
            "13      Andersson, Mr. Anders Johan  39.0       3\n",
            "..                              ...   ...     ...\n",
            "883   Banfield, Mr. Frederick James  28.0       2\n",
            "884          Sutehall, Mr. Henry Jr  25.0       3\n",
            "886           Montvila, Rev. Juozas  27.0       2\n",
            "889           Behr, Mr. Karl Howell  26.0       1\n",
            "890             Dooley, Mr. Patrick  32.0       3\n",
            "\n",
            "[368 rows x 3 columns]\n"
          ]
        }
      ]
    },
    {
      "cell_type": "markdown",
      "source": [
        "Анализ кают (1 балл)"
      ],
      "metadata": {
        "id": "WSVeLCydfbfC"
      }
    },
    {
      "cell_type": "code",
      "source": [
        "df['CabinDeck'] = df['Cabin'].str[0] if 'Cabin' in df.columns else 'Unknown'\n",
        "\n",
        "cabin_counts = df['CabinDeck'].value_counts()\n",
        "print(\"Распределение по каютам:\\n\", cabin_counts)"
      ],
      "metadata": {
        "colab": {
          "base_uri": "https://localhost:8080/"
        },
        "id": "GVN-j6evfd9H",
        "outputId": "54f65888-d4c1-4c88-bc51-e145d056df88"
      },
      "execution_count": 10,
      "outputs": [
        {
          "output_type": "stream",
          "name": "stdout",
          "text": [
            "Распределение по каютам:\n",
            " CabinDeck\n",
            "C    59\n",
            "B    47\n",
            "D    33\n",
            "E    32\n",
            "A    15\n",
            "F    13\n",
            "G     4\n",
            "T     1\n",
            "Name: count, dtype: int64\n"
          ]
        }
      ]
    }
  ]
}