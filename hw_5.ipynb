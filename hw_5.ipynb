{
  "nbformat": 4,
  "nbformat_minor": 0,
  "metadata": {
    "colab": {
      "provenance": []
    },
    "kernelspec": {
      "name": "python3",
      "display_name": "Python 3"
    },
    "language_info": {
      "name": "python"
    }
  },
  "cells": [
    {
      "cell_type": "markdown",
      "source": [
        "Загрузка данных (1 балл)"
      ],
      "metadata": {
        "id": "CY16PY_mlbB6"
      }
    },
    {
      "cell_type": "code",
      "source": [
        "import polars as pl\n",
        "\n",
        "df_pl = pl.read_csv(\"train.csv\")\n",
        "\n",
        "print(df_pl.head())"
      ],
      "metadata": {
        "colab": {
          "base_uri": "https://localhost:8080/"
        },
        "id": "s9ZICcULlbF4",
        "outputId": "4c2d480b-8ead-4e0b-bdaf-929808c6809e"
      },
      "execution_count": 4,
      "outputs": [
        {
          "output_type": "stream",
          "name": "stdout",
          "text": [
            "shape: (5, 12)\n",
            "┌─────────────┬──────────┬────────┬───────────────────┬───┬───────────┬─────────┬───────┬──────────┐\n",
            "│ PassengerId ┆ Survived ┆ Pclass ┆ Name              ┆ … ┆ Ticket    ┆ Fare    ┆ Cabin ┆ Embarked │\n",
            "│ ---         ┆ ---      ┆ ---    ┆ ---               ┆   ┆ ---       ┆ ---     ┆ ---   ┆ ---      │\n",
            "│ i64         ┆ i64      ┆ i64    ┆ str               ┆   ┆ str       ┆ f64     ┆ str   ┆ str      │\n",
            "╞═════════════╪══════════╪════════╪═══════════════════╪═══╪═══════════╪═════════╪═══════╪══════════╡\n",
            "│ 1           ┆ 0        ┆ 3      ┆ Braund, Mr. Owen  ┆ … ┆ A/5 21171 ┆ 7.25    ┆ null  ┆ S        │\n",
            "│             ┆          ┆        ┆ Harris            ┆   ┆           ┆         ┆       ┆          │\n",
            "│ 2           ┆ 1        ┆ 1      ┆ Cumings, Mrs.     ┆ … ┆ PC 17599  ┆ 71.2833 ┆ C85   ┆ C        │\n",
            "│             ┆          ┆        ┆ John Bradley (Fl… ┆   ┆           ┆         ┆       ┆          │\n",
            "│ 3           ┆ 1        ┆ 3      ┆ Heikkinen, Miss.  ┆ … ┆ STON/O2.  ┆ 7.925   ┆ null  ┆ S        │\n",
            "│             ┆          ┆        ┆ Laina             ┆   ┆ 3101282   ┆         ┆       ┆          │\n",
            "│ 4           ┆ 1        ┆ 1      ┆ Futrelle, Mrs.    ┆ … ┆ 113803    ┆ 53.1    ┆ C123  ┆ S        │\n",
            "│             ┆          ┆        ┆ Jacques Heath (…  ┆   ┆           ┆         ┆       ┆          │\n",
            "│ 5           ┆ 0        ┆ 3      ┆ Allen, Mr.        ┆ … ┆ 373450    ┆ 8.05    ┆ null  ┆ S        │\n",
            "│             ┆          ┆        ┆ William Henry     ┆   ┆           ┆         ┆       ┆          │\n",
            "└─────────────┴──────────┴────────┴───────────────────┴───┴───────────┴─────────┴───────┴──────────┘\n"
          ]
        }
      ]
    },
    {
      "cell_type": "markdown",
      "source": [
        "Основная информация о датасете (1 балл)"
      ],
      "metadata": {
        "id": "j6oOVugulbJt"
      }
    },
    {
      "cell_type": "code",
      "source": [
        "print(\"Типы данных:\\n\", df_pl.dtypes)\n",
        "\n",
        "print(\"Пропуски:\\n\", df_pl.null_count())\n",
        "\n",
        "print(\"Описательная статистика:\\n\", df_pl.describe())\n",
        "\n",
        "print(\"Средний возраст:\", df_pl[\"Age\"].mean())\n",
        "print(\"Средняя цена билета:\", df_pl[\"Fare\"].mean())"
      ],
      "metadata": {
        "colab": {
          "base_uri": "https://localhost:8080/"
        },
        "id": "GqrtmCTIlbNb",
        "outputId": "250e20bf-60fe-4a1c-cf31-e510f0911608"
      },
      "execution_count": 5,
      "outputs": [
        {
          "output_type": "stream",
          "name": "stdout",
          "text": [
            "Типы данных:\n",
            " [Int64, Int64, Int64, String, String, Float64, Int64, Int64, String, Float64, String, String]\n",
            "Пропуски:\n",
            " shape: (1, 12)\n",
            "┌─────────────┬──────────┬────────┬──────┬───┬────────┬──────┬───────┬──────────┐\n",
            "│ PassengerId ┆ Survived ┆ Pclass ┆ Name ┆ … ┆ Ticket ┆ Fare ┆ Cabin ┆ Embarked │\n",
            "│ ---         ┆ ---      ┆ ---    ┆ ---  ┆   ┆ ---    ┆ ---  ┆ ---   ┆ ---      │\n",
            "│ u32         ┆ u32      ┆ u32    ┆ u32  ┆   ┆ u32    ┆ u32  ┆ u32   ┆ u32      │\n",
            "╞═════════════╪══════════╪════════╪══════╪═══╪════════╪══════╪═══════╪══════════╡\n",
            "│ 0           ┆ 0        ┆ 0      ┆ 0    ┆ … ┆ 0      ┆ 0    ┆ 687   ┆ 2        │\n",
            "└─────────────┴──────────┴────────┴──────┴───┴────────┴──────┴───────┴──────────┘\n",
            "Описательная статистика:\n",
            " shape: (9, 13)\n",
            "┌────────────┬─────────────┬──────────┬──────────┬───┬───────────┬───────────┬───────┬──────────┐\n",
            "│ statistic  ┆ PassengerId ┆ Survived ┆ Pclass   ┆ … ┆ Ticket    ┆ Fare      ┆ Cabin ┆ Embarked │\n",
            "│ ---        ┆ ---         ┆ ---      ┆ ---      ┆   ┆ ---       ┆ ---       ┆ ---   ┆ ---      │\n",
            "│ str        ┆ f64         ┆ f64      ┆ f64      ┆   ┆ str       ┆ f64       ┆ str   ┆ str      │\n",
            "╞════════════╪═════════════╪══════════╪══════════╪═══╪═══════════╪═══════════╪═══════╪══════════╡\n",
            "│ count      ┆ 891.0       ┆ 891.0    ┆ 891.0    ┆ … ┆ 891       ┆ 891.0     ┆ 204   ┆ 889      │\n",
            "│ null_count ┆ 0.0         ┆ 0.0      ┆ 0.0      ┆ … ┆ 0         ┆ 0.0       ┆ 687   ┆ 2        │\n",
            "│ mean       ┆ 446.0       ┆ 0.383838 ┆ 2.308642 ┆ … ┆ null      ┆ 32.204208 ┆ null  ┆ null     │\n",
            "│ std        ┆ 257.353842  ┆ 0.486592 ┆ 0.836071 ┆ … ┆ null      ┆ 49.693429 ┆ null  ┆ null     │\n",
            "│ min        ┆ 1.0         ┆ 0.0      ┆ 1.0      ┆ … ┆ 110152    ┆ 0.0       ┆ A10   ┆ C        │\n",
            "│ 25%        ┆ 224.0       ┆ 0.0      ┆ 2.0      ┆ … ┆ null      ┆ 7.925     ┆ null  ┆ null     │\n",
            "│ 50%        ┆ 446.0       ┆ 0.0      ┆ 3.0      ┆ … ┆ null      ┆ 14.4542   ┆ null  ┆ null     │\n",
            "│ 75%        ┆ 669.0       ┆ 1.0      ┆ 3.0      ┆ … ┆ null      ┆ 31.0      ┆ null  ┆ null     │\n",
            "│ max        ┆ 891.0       ┆ 1.0      ┆ 3.0      ┆ … ┆ WE/P 5735 ┆ 512.3292  ┆ T     ┆ S        │\n",
            "└────────────┴─────────────┴──────────┴──────────┴───┴───────────┴───────────┴───────┴──────────┘\n",
            "Средний возраст: 29.69911764705882\n",
            "Средняя цена билета: 32.204207968574636\n"
          ]
        }
      ]
    },
    {
      "cell_type": "markdown",
      "source": [
        "Количество пассажиров по классам (1 балл)"
      ],
      "metadata": {
        "id": "HOWUzCkJlbRa"
      }
    },
    {
      "cell_type": "code",
      "source": [
        "print(df_pl[\"Pclass\"].value_counts())\n"
      ],
      "metadata": {
        "colab": {
          "base_uri": "https://localhost:8080/"
        },
        "id": "6JA_f4u4lbVe",
        "outputId": "2aaba8b7-ccf7-40ee-f5d2-fdb6ffb41608"
      },
      "execution_count": 6,
      "outputs": [
        {
          "output_type": "stream",
          "name": "stdout",
          "text": [
            "shape: (3, 2)\n",
            "┌────────┬───────┐\n",
            "│ Pclass ┆ count │\n",
            "│ ---    ┆ ---   │\n",
            "│ i64    ┆ u32   │\n",
            "╞════════╪═══════╡\n",
            "│ 1      ┆ 216   │\n",
            "│ 2      ┆ 184   │\n",
            "│ 3      ┆ 491   │\n",
            "└────────┴───────┘\n"
          ]
        }
      ]
    },
    {
      "cell_type": "markdown",
      "source": [
        "Количество выживших мужчин и женщин (1 балл)"
      ],
      "metadata": {
        "id": "fVaOirT0lbZP"
      }
    },
    {
      "cell_type": "code",
      "source": [
        "survival_stats = df_pl.group_by(\"Sex\").agg(\n",
        "    pl.col(\"Survived\").sum().alias(\"Выжившие\"),\n",
        "    pl.count().alias(\"Всего\")\n",
        ")\n",
        "print(survival_stats)"
      ],
      "metadata": {
        "colab": {
          "base_uri": "https://localhost:8080/"
        },
        "id": "_EnESWRvlbc4",
        "outputId": "780a8265-bd6d-43ab-c50a-765b1c2d0dbc"
      },
      "execution_count": 9,
      "outputs": [
        {
          "output_type": "stream",
          "name": "stdout",
          "text": [
            "shape: (2, 3)\n",
            "┌────────┬──────────┬───────┐\n",
            "│ Sex    ┆ Выжившие ┆ Всего │\n",
            "│ ---    ┆ ---      ┆ ---   │\n",
            "│ str    ┆ i64      ┆ u32   │\n",
            "╞════════╪══════════╪═══════╡\n",
            "│ male   ┆ 109      ┆ 577   │\n",
            "│ female ┆ 233      ┆ 314   │\n",
            "└────────┴──────────┴───────┘\n"
          ]
        },
        {
          "output_type": "stream",
          "name": "stderr",
          "text": [
            "<ipython-input-9-198da0e4aec6>:3: DeprecationWarning: `pl.count()` is deprecated. Please use `pl.len()` instead.\n",
            "  pl.count().alias(\"Всего\")\n"
          ]
        }
      ]
    },
    {
      "cell_type": "markdown",
      "source": [
        "Пассажиры старше 44 лет (1 балл)"
      ],
      "metadata": {
        "id": "_reolLnOlbgh"
      }
    },
    {
      "cell_type": "code",
      "source": [
        "older_than_44 = df_pl.filter(pl.col(\"Age\") > 44)\n",
        "print(older_than_44)"
      ],
      "metadata": {
        "colab": {
          "base_uri": "https://localhost:8080/"
        },
        "id": "EETSpXrclbkk",
        "outputId": "cce14bd1-524f-42de-b948-cf4b6f914345"
      },
      "execution_count": 10,
      "outputs": [
        {
          "output_type": "stream",
          "name": "stdout",
          "text": [
            "shape: (115, 12)\n",
            "┌─────────────┬──────────┬────────┬──────────────────┬───┬────────────┬─────────┬───────┬──────────┐\n",
            "│ PassengerId ┆ Survived ┆ Pclass ┆ Name             ┆ … ┆ Ticket     ┆ Fare    ┆ Cabin ┆ Embarked │\n",
            "│ ---         ┆ ---      ┆ ---    ┆ ---              ┆   ┆ ---        ┆ ---     ┆ ---   ┆ ---      │\n",
            "│ i64         ┆ i64      ┆ i64    ┆ str              ┆   ┆ str        ┆ f64     ┆ str   ┆ str      │\n",
            "╞═════════════╪══════════╪════════╪══════════════════╪═══╪════════════╪═════════╪═══════╪══════════╡\n",
            "│ 7           ┆ 0        ┆ 1      ┆ McCarthy, Mr.    ┆ … ┆ 17463      ┆ 51.8625 ┆ E46   ┆ S        │\n",
            "│             ┆          ┆        ┆ Timothy J        ┆   ┆            ┆         ┆       ┆          │\n",
            "│ 12          ┆ 1        ┆ 1      ┆ Bonnell, Miss.   ┆ … ┆ 113783     ┆ 26.55   ┆ C103  ┆ S        │\n",
            "│             ┆          ┆        ┆ Elizabeth        ┆   ┆            ┆         ┆       ┆          │\n",
            "│ 16          ┆ 1        ┆ 2      ┆ Hewlett, Mrs.    ┆ … ┆ 248706     ┆ 16.0    ┆ null  ┆ S        │\n",
            "│             ┆          ┆        ┆ (Mary D          ┆   ┆            ┆         ┆       ┆          │\n",
            "│             ┆          ┆        ┆ Kingcome…        ┆   ┆            ┆         ┆       ┆          │\n",
            "│ 34          ┆ 0        ┆ 2      ┆ Wheadon, Mr.     ┆ … ┆ C.A. 24579 ┆ 10.5    ┆ null  ┆ S        │\n",
            "│             ┆          ┆        ┆ Edward H         ┆   ┆            ┆         ┆       ┆          │\n",
            "│ 53          ┆ 1        ┆ 1      ┆ Harper, Mrs.     ┆ … ┆ PC 17572   ┆ 76.7292 ┆ D33   ┆ C        │\n",
            "│             ┆          ┆        ┆ Henry Sleeper    ┆   ┆            ┆         ┆       ┆          │\n",
            "│             ┆          ┆        ┆ (My…             ┆   ┆            ┆         ┆       ┆          │\n",
            "│ …           ┆ …        ┆ …      ┆ …                ┆ … ┆ …          ┆ …       ┆ …     ┆ …        │\n",
            "│ 858         ┆ 1        ┆ 1      ┆ Daly, Mr. Peter  ┆ … ┆ 113055     ┆ 26.55   ┆ E17   ┆ S        │\n",
            "│             ┆          ┆        ┆ Denis            ┆   ┆            ┆         ┆       ┆          │\n",
            "│ 863         ┆ 1        ┆ 1      ┆ Swift, Mrs.      ┆ … ┆ 17466      ┆ 25.9292 ┆ D17   ┆ S        │\n",
            "│             ┆          ┆        ┆ Frederick Joel   ┆   ┆            ┆         ┆       ┆          │\n",
            "│             ┆          ┆        ┆ (Ma…             ┆   ┆            ┆         ┆       ┆          │\n",
            "│ 872         ┆ 1        ┆ 1      ┆ Beckwith, Mrs.   ┆ … ┆ 11751      ┆ 52.5542 ┆ D35   ┆ S        │\n",
            "│             ┆          ┆        ┆ Richard Leonard… ┆   ┆            ┆         ┆       ┆          │\n",
            "│ 874         ┆ 0        ┆ 3      ┆ Vander Cruyssen, ┆ … ┆ 345765     ┆ 9.0     ┆ null  ┆ S        │\n",
            "│             ┆          ┆        ┆ Mr. Victor       ┆   ┆            ┆         ┆       ┆          │\n",
            "│ 880         ┆ 1        ┆ 1      ┆ Potter, Mrs.     ┆ … ┆ 11767      ┆ 83.1583 ┆ C50   ┆ C        │\n",
            "│             ┆          ┆        ┆ Thomas Jr (Lily  ┆   ┆            ┆         ┆       ┆          │\n",
            "│             ┆          ┆        ┆ A…               ┆   ┆            ┆         ┆       ┆          │\n",
            "└─────────────┴──────────┴────────┴──────────────────┴───┴────────────┴─────────┴───────┴──────────┘\n"
          ]
        }
      ]
    },
    {
      "cell_type": "markdown",
      "source": [
        "Загрузка данных и расчет статистик (1 балл)"
      ],
      "metadata": {
        "id": "mFhVdU9IlboT"
      }
    },
    {
      "cell_type": "code",
      "source": [
        "import pandas as pd\n",
        "import bottleneck as bn\n",
        "\n",
        "df_pd = pd.read_csv(\"train.csv\")\n",
        "\n",
        "# Средний возраст и стандартное отклонение (с учетом пропусков)\n",
        "mean_age = bn.nanmean(df_pd[\"Age\"])\n",
        "std_age = bn.nanstd(df_pd[\"Age\"])\n",
        "print(f\"Средний возраст: {mean_age:.2f} ± {std_age:.2f}\")"
      ],
      "metadata": {
        "colab": {
          "base_uri": "https://localhost:8080/"
        },
        "id": "WrYML4Hmlb0N",
        "outputId": "334ad562-f083-4af2-cb18-702c8391f3aa"
      },
      "execution_count": 11,
      "outputs": [
        {
          "output_type": "stream",
          "name": "stdout",
          "text": [
            "Средний возраст: 29.70 ± 14.52\n"
          ]
        }
      ]
    },
    {
      "cell_type": "markdown",
      "source": [
        "Умножение Fare на 1.3 (1 балл)"
      ],
      "metadata": {
        "id": "sPFEjTP7lb3q"
      }
    },
    {
      "cell_type": "code",
      "source": [
        "df_pd[\"Fare_new\"] = df_pd[\"Fare\"].apply(lambda x: x * 1.3)"
      ],
      "metadata": {
        "id": "MZvP5EzMlb7a"
      },
      "execution_count": 12,
      "outputs": []
    },
    {
      "cell_type": "markdown",
      "source": [
        "Загрузка данных (Housing.csv)"
      ],
      "metadata": {
        "id": "DmQUOMrBlb_L"
      }
    },
    {
      "cell_type": "code",
      "source": [
        "df_housing = pd.read_csv(\"Housing.csv\")\n",
        "print(df_housing.info(memory_usage=\"deep\"))"
      ],
      "metadata": {
        "colab": {
          "base_uri": "https://localhost:8080/"
        },
        "id": "CcaggyaplcDF",
        "outputId": "c59818da-87a2-48b7-dd91-0b445a200a9c"
      },
      "execution_count": 13,
      "outputs": [
        {
          "output_type": "stream",
          "name": "stdout",
          "text": [
            "<class 'pandas.core.frame.DataFrame'>\n",
            "RangeIndex: 545 entries, 0 to 544\n",
            "Data columns (total 13 columns):\n",
            " #   Column            Non-Null Count  Dtype \n",
            "---  ------            --------------  ----- \n",
            " 0   price             545 non-null    int64 \n",
            " 1   area              545 non-null    int64 \n",
            " 2   bedrooms          545 non-null    int64 \n",
            " 3   bathrooms         545 non-null    int64 \n",
            " 4   stories           545 non-null    int64 \n",
            " 5   mainroad          545 non-null    object\n",
            " 6   guestroom         545 non-null    object\n",
            " 7   basement          545 non-null    object\n",
            " 8   hotwaterheating   545 non-null    object\n",
            " 9   airconditioning   545 non-null    object\n",
            " 10  parking           545 non-null    int64 \n",
            " 11  prefarea          545 non-null    object\n",
            " 12  furnishingstatus  545 non-null    object\n",
            "dtypes: int64(6), object(7)\n",
            "memory usage: 251.7 KB\n",
            "None\n"
          ]
        }
      ]
    },
    {
      "cell_type": "markdown",
      "source": [
        "Определение оптимальных типов (2 балла)"
      ],
      "metadata": {
        "id": "fcFOcfmclcGW"
      }
    },
    {
      "cell_type": "code",
      "source": [
        "optimized_types = {\n",
        "    \"price\": \"int32\",          # Цены обычно не требуют int64\n",
        "    \"area\": \"int32\",           # Площадь в целых числах\n",
        "    \"bedrooms\": \"int8\",        # Количество комнат (малые числа)\n",
        "    \"bathrooms\": \"int8\",\n",
        "    \"stories\": \"int8\",\n",
        "    \"parking\": \"int8\",\n",
        "    \"furnishingstatus\": \"category\"  # Категориальный признак\n",
        "}\n",
        "\n",
        "# - Категории (`category`) экономят память для строковых данных с повторами.\n",
        "# - `int8`/`int32` вместо `int64` сокращают объем данных в 2-8 раз."
      ],
      "metadata": {
        "id": "NHYY-nkulcKj"
      },
      "execution_count": 14,
      "outputs": []
    },
    {
      "cell_type": "markdown",
      "source": [
        "Применение оптимизации и сравнение памяти (1 балл)"
      ],
      "metadata": {
        "id": "5MlgSReplcOJ"
      }
    },
    {
      "cell_type": "code",
      "source": [
        "# Память до оптимизации\n",
        "mem_before = df_housing.memory_usage(deep=True).sum()\n",
        "\n",
        "# Оптимизация типов\n",
        "df_optimized = df_housing.astype(optimized_types)\n",
        "\n",
        "# Память после\n",
        "mem_after = df_optimized.memory_usage(deep=True).sum()\n",
        "\n",
        "print(f\"Память до: {mem_before / 1024:.2f} KB\")\n",
        "print(f\"Память после: {mem_after / 1024:.2f} KB\")\n",
        "print(f\"Экономия: {(mem_before - mem_after) / mem_before * 100:.2f}%\")"
      ],
      "metadata": {
        "colab": {
          "base_uri": "https://localhost:8080/"
        },
        "id": "mSfL8GIllcRd",
        "outputId": "35d78e41-87c9-4054-8982-aa750610d858"
      },
      "execution_count": 15,
      "outputs": [
        {
          "output_type": "stream",
          "name": "stdout",
          "text": [
            "Память до: 251.72 KB\n",
            "Память после: 196.82 KB\n",
            "Экономия: 21.81%\n"
          ]
        }
      ]
    }
  ]
}