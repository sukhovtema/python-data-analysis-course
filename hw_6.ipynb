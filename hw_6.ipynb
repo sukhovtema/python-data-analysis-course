{
  "nbformat": 4,
  "nbformat_minor": 0,
  "metadata": {
    "colab": {
      "provenance": []
    },
    "kernelspec": {
      "name": "python3",
      "display_name": "Python 3"
    },
    "language_info": {
      "name": "python"
    }
  },
  "cells": [
    {
      "cell_type": "markdown",
      "source": [
        "## Загрузка данных и предобработка"
      ],
      "metadata": {
        "id": "kWXiwsh1pFfr"
      }
    },
    {
      "cell_type": "code",
      "source": [
        "import pandas as pd\n",
        "from sklearn.model_selection import train_test_split\n",
        "from sklearn.preprocessing import StandardScaler, OneHotEncoder\n",
        "from sklearn.compose import ColumnTransformer\n",
        "from sklearn.pipeline import Pipeline\n",
        "from sklearn.linear_model import LogisticRegression  # Добавлен этот импорт\n",
        "from sklearn.metrics import f1_score, classification_report\n",
        "from sklearn.dummy import DummyClassifier\n",
        "\n",
        "df = pd.read_csv('train.csv')\n",
        "\n",
        "df = df.drop(['PassengerId', 'Name', 'Ticket', 'Cabin'], axis=1)\n",
        "\n",
        "df['Age'] = df['Age'].fillna(df['Age'].median())\n",
        "df['Embarked'] = df['Embarked'].fillna(df['Embarked'].mode()[0])\n",
        "\n",
        "X = df.drop('Survived', axis=1)\n",
        "y = df['Survived']\n",
        "\n",
        "X_train, X_test, y_train, y_test = train_test_split(\n",
        "    X, y, test_size=0.2, random_state=42\n",
        ")"
      ],
      "metadata": {
        "id": "3kS8OuNqpFjU"
      },
      "execution_count": 4,
      "outputs": []
    },
    {
      "cell_type": "markdown",
      "source": [
        "## Выбор метрики качества\n",
        "Метрика: F1-score\n",
        "Обоснование:\n",
        "\n",
        "Данные несбалансированы (61% погибших, 39% выживших).\n",
        "\n",
        "F1-score учитывает и precision и recall, что важно для задач с дисбалансом классов.\n",
        "\n",
        "Альтернативно можно использовать ROC-AUC, но F1 интерпретируем лучше для бинарной классификации."
      ],
      "metadata": {
        "id": "uJ2RCeDipFnl"
      }
    },
    {
      "cell_type": "markdown",
      "source": [
        "## Бейзлайн (константное предсказание)"
      ],
      "metadata": {
        "id": "Gqlna3q1pFu1"
      }
    },
    {
      "cell_type": "code",
      "source": [
        "baseline = DummyClassifier(strategy='most_frequent', random_state=42)\n",
        "baseline.fit(X_train, y_train)\n",
        "y_pred_baseline = baseline.predict(X_test)\n",
        "\n",
        "print(\"F1-score бейзлайна:\", f1_score(y_test, y_pred_baseline))"
      ],
      "metadata": {
        "colab": {
          "base_uri": "https://localhost:8080/"
        },
        "id": "uf23mHiOpFyk",
        "outputId": "007e33e1-51d0-4757-bec6-902ab816d73b"
      },
      "execution_count": 6,
      "outputs": [
        {
          "output_type": "stream",
          "name": "stdout",
          "text": [
            "F1-score бейзлайна: 0.0\n"
          ]
        }
      ]
    },
    {
      "cell_type": "markdown",
      "source": [
        "## ML-модель (Logistic Regression)"
      ],
      "metadata": {
        "id": "kxnIBDmTpF2K"
      }
    },
    {
      "cell_type": "code",
      "source": [
        "numeric_features = ['Age', 'Fare']\n",
        "categorical_features = ['Pclass', 'Sex', 'SibSp', 'Parch', 'Embarked']\n",
        "\n",
        "preprocessor = ColumnTransformer(\n",
        "    transformers=[\n",
        "        ('num', StandardScaler(), numeric_features),\n",
        "        ('cat', OneHotEncoder(), categorical_features)\n",
        "    ]\n",
        ")\n",
        "\n",
        "model = Pipeline([\n",
        "    ('preprocessor', preprocessor),\n",
        "    ('classifier', LogisticRegression(random_state=42))\n",
        "])"
      ],
      "metadata": {
        "id": "tTDGGc2mpF6P"
      },
      "execution_count": 7,
      "outputs": []
    },
    {
      "cell_type": "code",
      "source": [
        "model.fit(X_train, y_train)\n",
        "y_pred = model.predict(X_test)\n",
        "\n",
        "print(\"F1-score модели:\", f1_score(y_test, y_pred))"
      ],
      "metadata": {
        "colab": {
          "base_uri": "https://localhost:8080/"
        },
        "id": "iiff4y2cpGBx",
        "outputId": "eb347ca7-14f0-47ce-b694-00cd6ac32755"
      },
      "execution_count": 8,
      "outputs": [
        {
          "output_type": "stream",
          "name": "stdout",
          "text": [
            "F1-score модели: 0.7375886524822695\n"
          ]
        }
      ]
    },
    {
      "cell_type": "code",
      "source": [
        "print(classification_report(y_test, y_pred))"
      ],
      "metadata": {
        "colab": {
          "base_uri": "https://localhost:8080/"
        },
        "id": "4x9OfjOWpGJG",
        "outputId": "50285c01-d935-47bc-8d58-8968e0b07785"
      },
      "execution_count": 9,
      "outputs": [
        {
          "output_type": "stream",
          "name": "stdout",
          "text": [
            "              precision    recall  f1-score   support\n",
            "\n",
            "           0       0.80      0.86      0.83       105\n",
            "           1       0.78      0.70      0.74        74\n",
            "\n",
            "    accuracy                           0.79       179\n",
            "   macro avg       0.79      0.78      0.78       179\n",
            "weighted avg       0.79      0.79      0.79       179\n",
            "\n"
          ]
        }
      ]
    }
  ]
}