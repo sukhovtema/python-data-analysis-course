{
  "nbformat": 4,
  "nbformat_minor": 0,
  "metadata": {
    "colab": {
      "provenance": []
    },
    "kernelspec": {
      "name": "python3",
      "display_name": "Python 3"
    },
    "language_info": {
      "name": "python"
    }
  },
  "cells": [
    {
      "cell_type": "code",
      "source": [
        "import requests\n",
        "from bs4 import BeautifulSoup\n",
        "import pandas as pd\n",
        "from tqdm import tqdm\n",
        "import time"
      ],
      "metadata": {
        "id": "-3_8fo8KvOXe"
      },
      "execution_count": 71,
      "outputs": []
    },
    {
      "cell_type": "markdown",
      "source": [
        "### Базовые URL для парсинга"
      ],
      "metadata": {
        "id": "9X6Tn6TWQuOJ"
      }
    },
    {
      "cell_type": "code",
      "source": [
        "base_url = \"https://lifehacker.ru/\"\n",
        "base_url_tech_page = \"https://lifehacker.ru/topics/technology/?page={}\""
      ],
      "metadata": {
        "id": "EqgvWvKJHypS"
      },
      "execution_count": 72,
      "outputs": []
    },
    {
      "cell_type": "markdown",
      "source": [
        "### Парсинг ссылок на статьи с главной страницы"
      ],
      "metadata": {
        "id": "2NQlY_UkQwwn"
      }
    },
    {
      "cell_type": "code",
      "source": [
        "parsed_urls = []\n",
        "pages_to_parse = 10\n",
        "\n",
        "for page_num in range(1, pages_to_parse + 1):\n",
        "    url = base_url_tech_page.format(page_num)\n",
        "    response = requests.get(url)\n",
        "    soup = BeautifulSoup(response.text, 'lxml')\n",
        "    raw_items = soup.find_all('a', class_='lh-small-article-card__link') # получаем ссылку на статью из карточки\n",
        "    parsed_urls += [item.get('href') for item in raw_items]"
      ],
      "metadata": {
        "id": "0GirZzaZHyrs"
      },
      "execution_count": 73,
      "outputs": []
    },
    {
      "cell_type": "markdown",
      "source": [
        "### Парсинг титульника и текста с каждой статьи"
      ],
      "metadata": {
        "id": "5DBwJKOdQ3Bu"
      }
    },
    {
      "cell_type": "code",
      "source": [
        "result = []\n",
        "\n",
        "for url in tqdm(parsed_urls):\n",
        "    article = {}\n",
        "\n",
        "    article_url = f'{base_url}{url}' # подставляем часть ссылки, ведущую к материалу\n",
        "    response = requests.get(article_url)\n",
        "    soup = BeautifulSoup(response.text, 'lxml')\n",
        "\n",
        "    # Безопасное извлечение заголовка\n",
        "    title_tag = soup.find('h1', class_='article-card__title')\n",
        "    article['title'] = title_tag.text.strip() if title_tag else None\n",
        "\n",
        "    # Безопасное извлечение текста\n",
        "    content_tag = soup.find('article', class_='single-article__post-content')\n",
        "    article['text'] = content_tag.text.strip() if content_tag else None\n",
        "\n",
        "    result.append(article)"
      ],
      "metadata": {
        "colab": {
          "base_uri": "https://localhost:8080/"
        },
        "id": "6zP1mcJKNzu6",
        "outputId": "ab8a48bd-debc-4109-f832-591192c8cdab"
      },
      "execution_count": 75,
      "outputs": [
        {
          "output_type": "stream",
          "name": "stderr",
          "text": [
            "100%|██████████| 300/300 [09:21<00:00,  1.87s/it]\n"
          ]
        }
      ]
    },
    {
      "cell_type": "markdown",
      "source": [
        "### Сделаем красивый датафрейм"
      ],
      "metadata": {
        "id": "oprk19wfQJCT"
      }
    },
    {
      "cell_type": "code",
      "source": [
        "pd.set_option('display.max_colwidth', 400)"
      ],
      "metadata": {
        "id": "TSLyIRx7LSk4"
      },
      "execution_count": 76,
      "outputs": []
    },
    {
      "cell_type": "code",
      "source": [
        "data = pd.DataFrame(result)\n",
        "data.head()"
      ],
      "metadata": {
        "colab": {
          "base_uri": "https://localhost:8080/",
          "height": 380
        },
        "id": "BcEH1lMkLSnO",
        "outputId": "5d6bd542-0fe5-4cbd-f1a0-26bdc6acb27f"
      },
      "execution_count": 77,
      "outputs": [
        {
          "output_type": "execute_result",
          "data": {
            "text/plain": [
              "                                                                                               title  \\\n",
              "0                               Промпт дня: «напиши и выполни» — чтобы чат-бот задал вопрос сам себе   \n",
              "1                                       Вышла Midjourney V7 — с режимом черновика и голосовым вводом   \n",
              "2                             Apple запатентовала полностью стеклянные iPhone, Apple Watch и Mac Pro   \n",
              "3              Представлен «вечный блокнот» HEYfold — на нём можно бесконечно писать и стирать текст   \n",
              "4  Складной iPhone Fold получит внешний экран размером с iPhone 13 mini — для любителей компактности   \n",
              "\n",
              "                                                                                                                                                                                                                                                                                                                                                                                                              text  \n",
              "0  На Лайфхакере новая рубрика — «Промпт дня». В ней мы будем давать советы по работе с чат-ботами, которые помогут улучшить выдачу и придумать новые способы внедрить нейросети в свою жизнь с пользой. Чат-ботов много, но мы стараемся делать рекомендации максимально универсальными: чтобы сработало и в ChatGPT, и в DeepSeek, и в Le Chat.И вполне символично, что мы начинаем новую рубрику с промпта, ...  \n",
              "1  В блоге нейросети Midjourney появился анонс версии V7, которая гораздо лучше справляется с текстовыми подсказками, понимает голосовые и позволяет получать более качественные изображения. По словам разработчиков, Midjourney V7 сильно превосходит прошлую версию по части работы с красивыми текстурами, руками людей, кожей и согласованностью всех деталей изображения. Кроме того, это первая модель, ...  \n",
              "2  Apple до сих пор одержима идеей полностью стеклянного iPhone, пишет MacRumors. Об этом свидетельствует последний патент компании в США, в котором подробно описан такой смартфон. Более того, подобный корпус может использоваться и в других устройствах, включая Apple Watch и даже Mac Pro.В документе рассказывается о девайсах, в которых все внешние поверхности (передняя, задняя и боковые) выполнен...  \n",
              "3  Стартап HEYii представил «вечный блокнот» HEYfold, который позволяет стирать записи салфеткой и снова писать. Разработчики считают, что он может занять золотую середину между традиционными ежедневниками и цифровыми приложениями.Изображение: HEYiiЭто ультратонкий гаджет толщиной всего 4 миллиметра, внешне напоминающий чистый лист бумаги. Для письма есть несколько разных ручек, а удалять записи ...  \n",
              "4  Продажи iPhone 13 mini оказались ниже ожиданий Apple, однако этот небольшой смартфон всё же нашёл свою аудиторию. Несмотря на то, что компания решила отказаться от выпуска модели, её особенности будут учтены при разработке складного iPhone Fold, который должен выйти уже в следующем году. Так купертинцы стремятся удовлетворить запросы поклонников компактности.По данным инсайдера Мин-Чи Куо, вне...  "
            ],
            "text/html": [
              "\n",
              "  <div id=\"df-45d1efbc-34be-4f51-aa2c-80ee5535aae8\" class=\"colab-df-container\">\n",
              "    <div>\n",
              "<style scoped>\n",
              "    .dataframe tbody tr th:only-of-type {\n",
              "        vertical-align: middle;\n",
              "    }\n",
              "\n",
              "    .dataframe tbody tr th {\n",
              "        vertical-align: top;\n",
              "    }\n",
              "\n",
              "    .dataframe thead th {\n",
              "        text-align: right;\n",
              "    }\n",
              "</style>\n",
              "<table border=\"1\" class=\"dataframe\">\n",
              "  <thead>\n",
              "    <tr style=\"text-align: right;\">\n",
              "      <th></th>\n",
              "      <th>title</th>\n",
              "      <th>text</th>\n",
              "    </tr>\n",
              "  </thead>\n",
              "  <tbody>\n",
              "    <tr>\n",
              "      <th>0</th>\n",
              "      <td>Промпт дня: «напиши и выполни» — чтобы чат-бот задал вопрос сам себе</td>\n",
              "      <td>На Лайфхакере новая рубрика — «Промпт дня». В ней мы будем давать советы по работе с чат-ботами, которые помогут улучшить выдачу и придумать новые способы внедрить нейросети в свою жизнь с пользой. Чат-ботов много, но мы стараемся делать рекомендации максимально универсальными: чтобы сработало и в ChatGPT, и в DeepSeek, и в Le Chat.И вполне символично, что мы начинаем новую рубрику с промпта, ...</td>\n",
              "    </tr>\n",
              "    <tr>\n",
              "      <th>1</th>\n",
              "      <td>Вышла Midjourney V7 — с режимом черновика и голосовым вводом</td>\n",
              "      <td>В блоге нейросети Midjourney появился анонс версии V7, которая гораздо лучше справляется с текстовыми подсказками, понимает голосовые и позволяет получать более качественные изображения. По словам разработчиков, Midjourney V7 сильно превосходит прошлую версию по части работы с красивыми текстурами, руками людей, кожей и согласованностью всех деталей изображения. Кроме того, это первая модель, ...</td>\n",
              "    </tr>\n",
              "    <tr>\n",
              "      <th>2</th>\n",
              "      <td>Apple запатентовала полностью стеклянные iPhone, Apple Watch и Mac Pro</td>\n",
              "      <td>Apple до сих пор одержима идеей полностью стеклянного iPhone, пишет MacRumors. Об этом свидетельствует последний патент компании в США, в котором подробно описан такой смартфон. Более того, подобный корпус может использоваться и в других устройствах, включая Apple Watch и даже Mac Pro.В документе рассказывается о девайсах, в которых все внешние поверхности (передняя, задняя и боковые) выполнен...</td>\n",
              "    </tr>\n",
              "    <tr>\n",
              "      <th>3</th>\n",
              "      <td>Представлен «вечный блокнот» HEYfold — на нём можно бесконечно писать и стирать текст</td>\n",
              "      <td>Стартап HEYii представил «вечный блокнот» HEYfold, который позволяет стирать записи салфеткой и снова писать. Разработчики считают, что он может занять золотую середину между традиционными ежедневниками и цифровыми приложениями.Изображение: HEYiiЭто ультратонкий гаджет толщиной всего 4 миллиметра, внешне напоминающий чистый лист бумаги. Для письма есть несколько разных ручек, а удалять записи ...</td>\n",
              "    </tr>\n",
              "    <tr>\n",
              "      <th>4</th>\n",
              "      <td>Складной iPhone Fold получит внешний экран размером с iPhone 13 mini — для любителей компактности</td>\n",
              "      <td>Продажи iPhone 13 mini оказались ниже ожиданий Apple, однако этот небольшой смартфон всё же нашёл свою аудиторию. Несмотря на то, что компания решила отказаться от выпуска модели, её особенности будут учтены при разработке складного iPhone Fold, который должен выйти уже в следующем году. Так купертинцы стремятся удовлетворить запросы поклонников компактности.По данным инсайдера Мин-Чи Куо, вне...</td>\n",
              "    </tr>\n",
              "  </tbody>\n",
              "</table>\n",
              "</div>\n",
              "    <div class=\"colab-df-buttons\">\n",
              "\n",
              "  <div class=\"colab-df-container\">\n",
              "    <button class=\"colab-df-convert\" onclick=\"convertToInteractive('df-45d1efbc-34be-4f51-aa2c-80ee5535aae8')\"\n",
              "            title=\"Convert this dataframe to an interactive table.\"\n",
              "            style=\"display:none;\">\n",
              "\n",
              "  <svg xmlns=\"http://www.w3.org/2000/svg\" height=\"24px\" viewBox=\"0 -960 960 960\">\n",
              "    <path d=\"M120-120v-720h720v720H120Zm60-500h600v-160H180v160Zm220 220h160v-160H400v160Zm0 220h160v-160H400v160ZM180-400h160v-160H180v160Zm440 0h160v-160H620v160ZM180-180h160v-160H180v160Zm440 0h160v-160H620v160Z\"/>\n",
              "  </svg>\n",
              "    </button>\n",
              "\n",
              "  <style>\n",
              "    .colab-df-container {\n",
              "      display:flex;\n",
              "      gap: 12px;\n",
              "    }\n",
              "\n",
              "    .colab-df-convert {\n",
              "      background-color: #E8F0FE;\n",
              "      border: none;\n",
              "      border-radius: 50%;\n",
              "      cursor: pointer;\n",
              "      display: none;\n",
              "      fill: #1967D2;\n",
              "      height: 32px;\n",
              "      padding: 0 0 0 0;\n",
              "      width: 32px;\n",
              "    }\n",
              "\n",
              "    .colab-df-convert:hover {\n",
              "      background-color: #E2EBFA;\n",
              "      box-shadow: 0px 1px 2px rgba(60, 64, 67, 0.3), 0px 1px 3px 1px rgba(60, 64, 67, 0.15);\n",
              "      fill: #174EA6;\n",
              "    }\n",
              "\n",
              "    .colab-df-buttons div {\n",
              "      margin-bottom: 4px;\n",
              "    }\n",
              "\n",
              "    [theme=dark] .colab-df-convert {\n",
              "      background-color: #3B4455;\n",
              "      fill: #D2E3FC;\n",
              "    }\n",
              "\n",
              "    [theme=dark] .colab-df-convert:hover {\n",
              "      background-color: #434B5C;\n",
              "      box-shadow: 0px 1px 3px 1px rgba(0, 0, 0, 0.15);\n",
              "      filter: drop-shadow(0px 1px 2px rgba(0, 0, 0, 0.3));\n",
              "      fill: #FFFFFF;\n",
              "    }\n",
              "  </style>\n",
              "\n",
              "    <script>\n",
              "      const buttonEl =\n",
              "        document.querySelector('#df-45d1efbc-34be-4f51-aa2c-80ee5535aae8 button.colab-df-convert');\n",
              "      buttonEl.style.display =\n",
              "        google.colab.kernel.accessAllowed ? 'block' : 'none';\n",
              "\n",
              "      async function convertToInteractive(key) {\n",
              "        const element = document.querySelector('#df-45d1efbc-34be-4f51-aa2c-80ee5535aae8');\n",
              "        const dataTable =\n",
              "          await google.colab.kernel.invokeFunction('convertToInteractive',\n",
              "                                                    [key], {});\n",
              "        if (!dataTable) return;\n",
              "\n",
              "        const docLinkHtml = 'Like what you see? Visit the ' +\n",
              "          '<a target=\"_blank\" href=https://colab.research.google.com/notebooks/data_table.ipynb>data table notebook</a>'\n",
              "          + ' to learn more about interactive tables.';\n",
              "        element.innerHTML = '';\n",
              "        dataTable['output_type'] = 'display_data';\n",
              "        await google.colab.output.renderOutput(dataTable, element);\n",
              "        const docLink = document.createElement('div');\n",
              "        docLink.innerHTML = docLinkHtml;\n",
              "        element.appendChild(docLink);\n",
              "      }\n",
              "    </script>\n",
              "  </div>\n",
              "\n",
              "\n",
              "<div id=\"df-c6f04dbf-ae74-40e3-9b00-27b8e70d70a3\">\n",
              "  <button class=\"colab-df-quickchart\" onclick=\"quickchart('df-c6f04dbf-ae74-40e3-9b00-27b8e70d70a3')\"\n",
              "            title=\"Suggest charts\"\n",
              "            style=\"display:none;\">\n",
              "\n",
              "<svg xmlns=\"http://www.w3.org/2000/svg\" height=\"24px\"viewBox=\"0 0 24 24\"\n",
              "     width=\"24px\">\n",
              "    <g>\n",
              "        <path d=\"M19 3H5c-1.1 0-2 .9-2 2v14c0 1.1.9 2 2 2h14c1.1 0 2-.9 2-2V5c0-1.1-.9-2-2-2zM9 17H7v-7h2v7zm4 0h-2V7h2v10zm4 0h-2v-4h2v4z\"/>\n",
              "    </g>\n",
              "</svg>\n",
              "  </button>\n",
              "\n",
              "<style>\n",
              "  .colab-df-quickchart {\n",
              "      --bg-color: #E8F0FE;\n",
              "      --fill-color: #1967D2;\n",
              "      --hover-bg-color: #E2EBFA;\n",
              "      --hover-fill-color: #174EA6;\n",
              "      --disabled-fill-color: #AAA;\n",
              "      --disabled-bg-color: #DDD;\n",
              "  }\n",
              "\n",
              "  [theme=dark] .colab-df-quickchart {\n",
              "      --bg-color: #3B4455;\n",
              "      --fill-color: #D2E3FC;\n",
              "      --hover-bg-color: #434B5C;\n",
              "      --hover-fill-color: #FFFFFF;\n",
              "      --disabled-bg-color: #3B4455;\n",
              "      --disabled-fill-color: #666;\n",
              "  }\n",
              "\n",
              "  .colab-df-quickchart {\n",
              "    background-color: var(--bg-color);\n",
              "    border: none;\n",
              "    border-radius: 50%;\n",
              "    cursor: pointer;\n",
              "    display: none;\n",
              "    fill: var(--fill-color);\n",
              "    height: 32px;\n",
              "    padding: 0;\n",
              "    width: 32px;\n",
              "  }\n",
              "\n",
              "  .colab-df-quickchart:hover {\n",
              "    background-color: var(--hover-bg-color);\n",
              "    box-shadow: 0 1px 2px rgba(60, 64, 67, 0.3), 0 1px 3px 1px rgba(60, 64, 67, 0.15);\n",
              "    fill: var(--button-hover-fill-color);\n",
              "  }\n",
              "\n",
              "  .colab-df-quickchart-complete:disabled,\n",
              "  .colab-df-quickchart-complete:disabled:hover {\n",
              "    background-color: var(--disabled-bg-color);\n",
              "    fill: var(--disabled-fill-color);\n",
              "    box-shadow: none;\n",
              "  }\n",
              "\n",
              "  .colab-df-spinner {\n",
              "    border: 2px solid var(--fill-color);\n",
              "    border-color: transparent;\n",
              "    border-bottom-color: var(--fill-color);\n",
              "    animation:\n",
              "      spin 1s steps(1) infinite;\n",
              "  }\n",
              "\n",
              "  @keyframes spin {\n",
              "    0% {\n",
              "      border-color: transparent;\n",
              "      border-bottom-color: var(--fill-color);\n",
              "      border-left-color: var(--fill-color);\n",
              "    }\n",
              "    20% {\n",
              "      border-color: transparent;\n",
              "      border-left-color: var(--fill-color);\n",
              "      border-top-color: var(--fill-color);\n",
              "    }\n",
              "    30% {\n",
              "      border-color: transparent;\n",
              "      border-left-color: var(--fill-color);\n",
              "      border-top-color: var(--fill-color);\n",
              "      border-right-color: var(--fill-color);\n",
              "    }\n",
              "    40% {\n",
              "      border-color: transparent;\n",
              "      border-right-color: var(--fill-color);\n",
              "      border-top-color: var(--fill-color);\n",
              "    }\n",
              "    60% {\n",
              "      border-color: transparent;\n",
              "      border-right-color: var(--fill-color);\n",
              "    }\n",
              "    80% {\n",
              "      border-color: transparent;\n",
              "      border-right-color: var(--fill-color);\n",
              "      border-bottom-color: var(--fill-color);\n",
              "    }\n",
              "    90% {\n",
              "      border-color: transparent;\n",
              "      border-bottom-color: var(--fill-color);\n",
              "    }\n",
              "  }\n",
              "</style>\n",
              "\n",
              "  <script>\n",
              "    async function quickchart(key) {\n",
              "      const quickchartButtonEl =\n",
              "        document.querySelector('#' + key + ' button');\n",
              "      quickchartButtonEl.disabled = true;  // To prevent multiple clicks.\n",
              "      quickchartButtonEl.classList.add('colab-df-spinner');\n",
              "      try {\n",
              "        const charts = await google.colab.kernel.invokeFunction(\n",
              "            'suggestCharts', [key], {});\n",
              "      } catch (error) {\n",
              "        console.error('Error during call to suggestCharts:', error);\n",
              "      }\n",
              "      quickchartButtonEl.classList.remove('colab-df-spinner');\n",
              "      quickchartButtonEl.classList.add('colab-df-quickchart-complete');\n",
              "    }\n",
              "    (() => {\n",
              "      let quickchartButtonEl =\n",
              "        document.querySelector('#df-c6f04dbf-ae74-40e3-9b00-27b8e70d70a3 button');\n",
              "      quickchartButtonEl.style.display =\n",
              "        google.colab.kernel.accessAllowed ? 'block' : 'none';\n",
              "    })();\n",
              "  </script>\n",
              "</div>\n",
              "\n",
              "    </div>\n",
              "  </div>\n"
            ],
            "application/vnd.google.colaboratory.intrinsic+json": {
              "type": "dataframe",
              "variable_name": "data",
              "summary": "{\n  \"name\": \"data\",\n  \"rows\": 300,\n  \"fields\": [\n    {\n      \"column\": \"title\",\n      \"properties\": {\n        \"dtype\": \"string\",\n        \"num_unique_values\": 298,\n        \"samples\": [\n          \"Apple \\u0443\\u043f\\u0440\\u043e\\u0441\\u0442\\u0438\\u0442 \\u0441\\u0438\\u043d\\u0445\\u0440\\u043e\\u043d\\u0438\\u0437\\u0430\\u0446\\u0438\\u044e Mac \\u0438 iPhone \\u2014 \\u0434\\u043e\\u0441\\u0442\\u0430\\u0442\\u043e\\u0447\\u043d\\u043e \\u0431\\u0443\\u0434\\u0435\\u0442 \\u043f\\u043e\\u0434\\u043d\\u0435\\u0441\\u0442\\u0438 \\u0441\\u043c\\u0430\\u0440\\u0442\\u0444\\u043e\\u043d \\u043a \\u043a\\u043e\\u043c\\u043f\\u044c\\u044e\\u0442\\u0435\\u0440\\u0443\",\n          \"\\u0418\\u043d\\u0441\\u0430\\u0439\\u0434\\u0435\\u0440 \\u043f\\u043e\\u043a\\u0430\\u0437\\u0430\\u043b \\u0432\\u043e\\u0437\\u043c\\u043e\\u0436\\u043d\\u044b\\u0439 \\u0434\\u0438\\u0437\\u0430\\u0439\\u043d \\u0431\\u043b\\u043e\\u043a\\u0430 \\u043a\\u0430\\u043c\\u0435\\u0440 iPhone 17\\u00a0Pro\",\n          \"\\u0412 \\u0421\\u0435\\u0442\\u044c \\u0443\\u0442\\u0435\\u043a\\u043b\\u0438 \\u0440\\u0435\\u043d\\u0434\\u0435\\u0440\\u044b \\u0438 \\u0445\\u0430\\u0440\\u0430\\u043a\\u0442\\u0435\\u0440\\u0438\\u0441\\u0442\\u0438\\u043a\\u0438 Xiaomi 15 Ultra \\u2014 \\u044d\\u0442\\u043e \\u043c\\u043e\\u0436\\u0435\\u0442 \\u0431\\u044b\\u0442\\u044c \\u043b\\u0443\\u0447\\u0448\\u0438\\u0439 \\u043a\\u0430\\u043c\\u0435\\u0440\\u043e\\u0444\\u043e\\u043d 2025\\u00a0\\u0433\\u043e\\u0434\\u0430\"\n        ],\n        \"semantic_type\": \"\",\n        \"description\": \"\"\n      }\n    },\n    {\n      \"column\": \"text\",\n      \"properties\": {\n        \"dtype\": \"string\",\n        \"num_unique_values\": 298,\n        \"samples\": [\n          \"\\u0412 macOS Sequoia 15.4 \\u043f\\u043e\\u044f\\u0432\\u0438\\u0442\\u0441\\u044f \\u043d\\u043e\\u0432\\u0430\\u044f \\u0444\\u0443\\u043d\\u043a\\u0446\\u0438\\u044f, \\u043f\\u043e\\u0437\\u0432\\u043e\\u043b\\u044f\\u044e\\u0449\\u0430\\u044f \\u0431\\u044b\\u0441\\u0442\\u0440\\u043e \\u0441\\u0438\\u043d\\u0445\\u0440\\u043e\\u043d\\u0438\\u0437\\u0438\\u0440\\u043e\\u0432\\u0430\\u0442\\u044c iPhone \\u0438 iPad \\u0441 Mac. \\u0414\\u043e\\u0441\\u0442\\u0430\\u0442\\u043e\\u0447\\u043d\\u043e \\u0431\\u0443\\u0434\\u0435\\u0442 \\u043f\\u0440\\u043e\\u0441\\u0442\\u043e \\u043f\\u043e\\u0434\\u043d\\u0435\\u0441\\u0442\\u0438 \\u0443\\u0441\\u0442\\u0440\\u043e\\u0439\\u0441\\u0442\\u0432\\u043e \\u043a \\u043a\\u043e\\u043c\\u043f\\u044c\\u044e\\u0442\\u0435\\u0440\\u0443 \\u2014 \\u0438 \\u0441\\u0438\\u0441\\u0442\\u0435\\u043c\\u0430 \\u0441\\u0430\\u043c\\u0430 \\u0432\\u043e\\u0439\\u0434\\u0451\\u0442 \\u0432 \\u0443\\u0447\\u0451\\u0442\\u043d\\u0443\\u044e \\u0437\\u0430\\u043f\\u0438\\u0441\\u044c Apple.\\u0424\\u0443\\u043d\\u043a\\u0446\\u0438\\u044f \\u0443\\u0441\\u043a\\u043e\\u0440\\u0438\\u0442 \\u043f\\u0435\\u0440\\u0435\\u043d\\u043e\\u0441 \\u0444\\u0430\\u0439\\u043b\\u043e\\u0432, \\u0444\\u043e\\u0442\\u043e\\u0433\\u0440\\u0430\\u0444\\u0438\\u0439, \\u0441\\u043e\\u043e\\u0431\\u0449\\u0435\\u043d\\u0438\\u0439, \\u043f\\u0430\\u0440\\u043e\\u043b\\u0435\\u0439 \\u0438 \\u0434\\u0440\\u0443\\u0433\\u0438\\u0445 \\u0434\\u0430\\u043d\\u043d\\u044b\\u0445 \\u043d\\u0430 \\u043d\\u043e\\u0432\\u044b\\u0439 Mac \\u0431\\u0435\\u0437 \\u043d\\u0435\\u043e\\u0431\\u0445\\u043e\\u0434\\u0438\\u043c\\u043e\\u0441\\u0442\\u0438 \\u0432\\u0440\\u0443\\u0447\\u043d\\u0443\\u044e \\u0432\\u0432\\u043e\\u0434\\u0438\\u0442\\u044c \\u043b\\u043e\\u0433\\u0438\\u043d \\u0438 \\u043f\\u0430\\u0440\\u043e\\u043b\\u044c. \\u041f\\u043e \\u0441\\u043b\\u043e\\u0432\\u0430\\u043c Apple, \\u044d\\u0442\\u043e \\u0437\\u043d\\u0430\\u0447\\u0438\\u0442\\u0435\\u043b\\u044c\\u043d\\u043e \\u043e\\u0431\\u043b\\u0435\\u0433\\u0447\\u0438\\u0442 \\u043f\\u0440\\u043e\\u0446\\u0435\\u0441\\u0441 \\u043f\\u0435\\u0440\\u0432\\u043e\\u043d\\u0430\\u0447\\u0430\\u043b\\u044c\\u043d\\u043e\\u0439 \\u043d\\u0430\\u0441\\u0442\\u0440\\u043e\\u0439\\u043a\\u0438 \\u043a\\u043e\\u043c\\u043f\\u044c\\u044e\\u0442\\u0435\\u0440\\u0430.\\u0414\\u043b\\u044f \\u0440\\u0430\\u0431\\u043e\\u0442\\u044b \\u0444\\u0443\\u043d\\u043a\\u0446\\u0438\\u0438 \\u0432\\u0441\\u0435 \\u0443\\u0441\\u0442\\u0440\\u043e\\u0439\\u0441\\u0442\\u0432\\u0430 \\u0434\\u043e\\u043b\\u0436\\u043d\\u044b \\u0431\\u044b\\u0442\\u044c \\u043e\\u0431\\u043d\\u043e\\u0432\\u043b\\u0435\\u043d\\u044b \\u0434\\u043e macOS 15.4 \\u0438 iOS/iPadOS 18.4. \\u041e\\u0431\\u043d\\u043e\\u0432\\u043b\\u0435\\u043d\\u0438\\u044f \\u0441\\u0442\\u0430\\u043d\\u0443\\u0442 \\u0434\\u043e\\u0441\\u0442\\u0443\\u043f\\u043d\\u044b \\u0432 \\u0430\\u043f\\u0440\\u0435\\u043b\\u0435 2025\\u00a0\\u0433\\u043e\\u0434\\u0430.\\u041d\\u043e\\u0432\\u043e\\u0441\\u0442\\u0438 \\u0442\\u0435\\u0445\\u043d\\u043e\\u043b\\u043e\\u0433\\u0438\\u0439\\ud83d\\ude80Apple \\u043f\\u0440\\u0435\\u0434\\u0441\\u0442\\u0430\\u0432\\u0438\\u043b\\u0430 MacBook Air \\u0441 \\u0447\\u0438\\u043f\\u043e\\u043c M4 \\u0438 \\u0432 \\u043d\\u043e\\u0432\\u043e\\u043c \\u0446\\u0432\\u0435\\u0442\\u0435 \\u2014 \\u043e\\u043d \\u0441\\u0442\\u0430\\u043b \\u0434\\u0435\\u0448\\u0435\\u0432\\u043b\\u0435Samsung \\u043e\\u0444\\u0438\\u0446\\u0438\\u0430\\u043b\\u044c\\u043d\\u043e \\u043e\\u0431\\u044a\\u044f\\u0432\\u0438\\u043b\\u0430 \\u0441\\u0440\\u043e\\u043a \\u0432\\u044b\\u0445\\u043e\\u0434\\u0430 One UI 7\\u041f\\u043e\\u044f\\u0432\\u0438\\u043b\\u043e\\u0441\\u044c \\u043f\\u0440\\u0438\\u043b\\u043e\\u0436\\u0435\\u043d\\u0438\\u0435 \\u0434\\u043b\\u044f \\u043f\\u0440\\u043e\\u0432\\u0435\\u0440\\u043a\\u0438 \\u0441\\u043c\\u0430\\u0440\\u0442\\u0444\\u043e\\u043d\\u043e\\u0432 Xiaomi \\u043d\\u0430 \\u0441\\u043e\\u0432\\u043c\\u0435\\u0441\\u0442\\u0438\\u043c\\u043e\\u0441\\u0442\\u044c \\u0441 HyperOS 3 \\u0438 Android 16\",\n          \"\\u0410\\u043d\\u0430\\u043b\\u0438\\u0442\\u0438\\u043a \\u0414\\u0436\\u043e\\u043d \\u041f\\u0440\\u043e\\u0441\\u0441\\u0435\\u0440 \\u043e\\u043f\\u0443\\u0431\\u043b\\u0438\\u043a\\u043e\\u0432\\u0430\\u043b \\u043d\\u0430 YouTube-\\u043a\\u0430\\u043d\\u0430\\u043b\\u0435 Front Page Tech \\u0440\\u0435\\u043d\\u0434\\u0435\\u0440\\u044b iPhone 17 Pro \\u0441 \\u043f\\u0435\\u0440\\u0435\\u0440\\u0430\\u0431\\u043e\\u0442\\u0430\\u043d\\u043d\\u044b\\u043c \\u0431\\u043b\\u043e\\u043a\\u043e\\u043c \\u043a\\u0430\\u043c\\u0435\\u0440: \\u043e\\u0431\\u044a\\u0435\\u043a\\u0442\\u0438\\u0432\\u044b \\u0440\\u0430\\u0441\\u043f\\u043e\\u043b\\u043e\\u0436\\u0435\\u043d\\u044b \\u0441\\u043b\\u0435\\u0432\\u0430, \\u0430 \\u0432\\u0441\\u043f\\u044b\\u0448\\u043a\\u0430, \\u043c\\u0438\\u043a\\u0440\\u043e\\u0444\\u043e\\u043d \\u0438 LiDAR \\u2014 \\u0441\\u043f\\u0440\\u0430\\u0432\\u0430. \\u041f\\u0440\\u0438 \\u044d\\u0442\\u043e\\u043c \\u0442\\u0440\\u0435\\u0443\\u0433\\u043e\\u043b\\u044c\\u043d\\u043e\\u0435 \\u0440\\u0430\\u0441\\u043f\\u043e\\u043b\\u043e\\u0436\\u0435\\u043d\\u0438\\u0435 \\u043b\\u0438\\u043d\\u0437, \\u0445\\u0430\\u0440\\u0430\\u043a\\u0442\\u0435\\u0440\\u043d\\u043e\\u0435 \\u0434\\u043b\\u044f Pro-\\u043c\\u043e\\u0434\\u0435\\u043b\\u0435\\u0439, \\u0441\\u043e\\u0445\\u0440\\u0430\\u043d\\u0438\\u0442\\u0441\\u044f, \\u043d\\u0435\\u0441\\u043c\\u043e\\u0442\\u0440\\u044f \\u043d\\u0430 \\u0441\\u043b\\u0443\\u0445\\u0438 \\u043e \\u0433\\u043e\\u0440\\u0438\\u0437\\u043e\\u043d\\u0442\\u0430\\u043b\\u044c\\u043d\\u043e\\u0439 \\u043f\\u043e\\u043b\\u043e\\u0441\\u043a\\u0435 \\u0432 \\u0441\\u0442\\u0438\\u043b\\u0435 Google Pixel.\\u0418\\u0437\\u043e\\u0431\\u0440\\u0430\\u0436\\u0435\\u043d\\u0438\\u0435: fpt. / YouTube\\u041f\\u0440\\u043e\\u0441\\u0441\\u0435\\u0440 \\u043e\\u0442\\u043c\\u0435\\u0442\\u0438\\u043b, \\u0447\\u0442\\u043e \\u0432\\u044b\\u0441\\u0442\\u0440\\u043e\\u0438\\u0442\\u044c \\u043a\\u0430\\u043c\\u0435\\u0440\\u044b \\u0432 \\u043e\\u0434\\u043d\\u0443 \\u043b\\u0438\\u043d\\u0438\\u044e \\u0440\\u044f\\u0434\\u043e\\u043c \\u0441 \\u0441\\u0438\\u0441\\u0442\\u0435\\u043c\\u043e\\u0439 Face ID \\u043d\\u0435\\u0432\\u043e\\u0437\\u043c\\u043e\\u0436\\u043d\\u043e \\u0438\\u0437-\\u0437\\u0430 \\u0440\\u0430\\u0437\\u043c\\u0435\\u0440\\u043e\\u0432 \\u043e\\u043f\\u0442\\u0438\\u0447\\u0435\\u0441\\u043a\\u0438\\u0445 \\u043c\\u043e\\u0434\\u0443\\u043b\\u0435\\u0439, \\u043d\\u043e Apple \\u0441\\u0442\\u0440\\u0435\\u043c\\u0438\\u0442\\u0441\\u044f \\u0432\\u043d\\u0435\\u0441\\u0442\\u0438 \\u0445\\u043e\\u0442\\u044c \\u043a\\u0430\\u043a\\u0438\\u0435-\\u0442\\u043e \\u0438\\u0437\\u043c\\u0435\\u043d\\u0435\\u043d\\u0438\\u044f \\u0432 \\u0434\\u0438\\u0437\\u0430\\u0439\\u043d. \\u0410\\u043b\\u044c\\u0442\\u0435\\u0440\\u043d\\u0430\\u0442\\u0438\\u0432\\u043e\\u0439 \\u043c\\u043e\\u0433\\u043b\\u043e \\u0431\\u044b \\u0441\\u0442\\u0430\\u0442\\u044c \\u0440\\u0430\\u0441\\u043f\\u043e\\u043b\\u043e\\u0436\\u0435\\u043d\\u0438\\u0435 \\u043f\\u043e\\u043b\\u043e\\u0441\\u043a\\u0438 \\u043d\\u0438\\u0436\\u0435, \\u043a\\u0430\\u043a \\u0432 Pixel 9, \\u043d\\u043e \\u043a\\u043e\\u043c\\u043f\\u0430\\u043d\\u0438\\u044f, \\u0432\\u0435\\u0440\\u043e\\u044f\\u0442\\u043d\\u043e, \\u043f\\u043e\\u0439\\u0434\\u0451\\u0442 \\u0441\\u0432\\u043e\\u0438\\u043c \\u043f\\u0443\\u0442\\u0451\\u043c. \\u0422\\u0440\\u0435\\u0443\\u0433\\u043e\\u043b\\u044c\\u043d\\u0430\\u044f \\u043a\\u043e\\u043c\\u043f\\u043e\\u043d\\u043e\\u0432\\u043a\\u0430, \\u043f\\u043e \\u0441\\u043b\\u043e\\u0432\\u0430\\u043c \\u0438\\u043d\\u0441\\u0430\\u0439\\u0434\\u0435\\u0440\\u0430, \\u0432\\u0430\\u0436\\u043d\\u0430 \\u0434\\u043b\\u044f \\u043f\\u043b\\u0430\\u0432\\u043d\\u043e\\u0433\\u043e \\u043f\\u0435\\u0440\\u0435\\u043a\\u043b\\u044e\\u0447\\u0435\\u043d\\u0438\\u044f \\u043c\\u0435\\u0436\\u0434\\u0443 \\u0443\\u043b\\u044c\\u0442\\u0440\\u0430\\u0448\\u0438\\u0440\\u043e\\u043a\\u043e\\u0443\\u0433\\u043e\\u043b\\u044c\\u043d\\u044b\\u043c \\u0438 \\u0442\\u0435\\u043b\\u0435\\u043e\\u0431\\u044a\\u0435\\u043a\\u0442\\u0438\\u0432\\u043e\\u043c \\u0432\\u043e \\u0432\\u0440\\u0435\\u043c\\u044f \\u0441\\u044a\\u0451\\u043c\\u043a\\u0438.\\u0418\\u0437\\u043e\\u0431\\u0440\\u0430\\u0436\\u0435\\u043d\\u0438\\u0435: fpt. / YouTube\\u041a\\u0440\\u043e\\u043c\\u0435 \\u0442\\u043e\\u0433\\u043e, \\u041f\\u0440\\u043e\\u0441\\u0441\\u0435\\u0440 \\u043e\\u043f\\u0440\\u043e\\u0432\\u0435\\u0440\\u0433 \\u0441\\u043b\\u0443\\u0445\\u0438 \\u043e \\u0434\\u0432\\u0443\\u0445\\u0446\\u0432\\u0435\\u0442\\u043d\\u043e\\u0439 \\u0437\\u0430\\u0434\\u043d\\u0435\\u0439 \\u043f\\u0430\\u043d\\u0435\\u043b\\u0438: \\u043e\\u043d\\u0430 \\u043e\\u0441\\u0442\\u0430\\u043d\\u0435\\u0442\\u0441\\u044f \\u043e\\u0434\\u043d\\u043e\\u0442\\u043e\\u043d\\u043d\\u043e\\u0439, \\u043d\\u043e \\u0431\\u043b\\u043e\\u043a \\u043a\\u0430\\u043c\\u0435\\u0440 \\u0431\\u0443\\u0434\\u0435\\u0442 \\u0437\\u0430\\u043c\\u0435\\u0442\\u043d\\u043e \\u0442\\u0435\\u043c\\u043d\\u0435\\u0435. \\u0422\\u0430\\u043a\\u0436\\u0435 \\u0438\\u0441\\u0442\\u043e\\u0447\\u043d\\u0438\\u043a\\u0438 \\u0430\\u043d\\u0430\\u043b\\u0438\\u0442\\u0438\\u043a\\u0430 \\u0441\\u043e\\u043e\\u0431\\u0449\\u0438\\u043b\\u0438, \\u0447\\u0442\\u043e iPhone 17 Pro \\u0441\\u0442\\u0430\\u043d\\u0435\\u0442 \\u043b\\u0435\\u0433\\u0447\\u0435 \\u043d\\u044b\\u043d\\u0435\\u0448\\u043d\\u0438\\u0445 \\u043c\\u043e\\u0434\\u0435\\u043b\\u0435\\u0439.\\u041e\\u0434\\u043d\\u0430\\u043a\\u043e \\u0441\\u0442\\u043e\\u0438\\u0442 \\u0443\\u0447\\u0438\\u0442\\u044b\\u0432\\u0430\\u0442\\u044c, \\u0447\\u0442\\u043e \\u0440\\u0435\\u043d\\u0434\\u0435\\u0440\\u044b \\u0432\\u043e\\u0441\\u0441\\u043e\\u0437\\u0434\\u0430\\u043d\\u044b \\u043d\\u0430 \\u043e\\u0441\\u043d\\u043e\\u0432\\u0435 \\u0443\\u0442\\u0435\\u0447\\u0435\\u043a \\u2014 \\u0441\\u0430\\u043c iPhone 17 Pro \\u041f\\u0440\\u043e\\u0441\\u0441\\u0435\\u0440 \\u043d\\u0435 \\u0432\\u0438\\u0434\\u0435\\u043b. \\u0418\\u043d\\u0441\\u0430\\u0439\\u0434\\u0435\\u0440 Instant Digital \\u0441 Weibo \\u0440\\u0430\\u043d\\u0435\\u0435 \\u043e\\u043f\\u0438\\u0441\\u044b\\u0432\\u0430\\u043b \\u043f\\u043e\\u0445\\u043e\\u0436\\u0438\\u0439 \\u0434\\u0438\\u0437\\u0430\\u0439\\u043d, \\u043d\\u043e \\u0430\\u0432\\u0442\\u043e\\u0440\\u0438\\u0442\\u0435\\u0442\\u043d\\u044b\\u0439 \\u0430\\u043d\\u0430\\u043b\\u0438\\u0442\\u0438\\u043a \\u041c\\u0430\\u0440\\u043a \\u0413\\u0443\\u0440\\u043c\\u0430\\u043d \\u043d\\u0430\\u0437\\u0432\\u0430\\u043b \\u0440\\u0435\\u043d\\u0434\\u0435\\u0440\\u044b \\u041f\\u0440\\u043e\\u0441\\u0441\\u0435\\u0440\\u0430 \\u0444\\u0435\\u0439\\u043a\\u043e\\u043c. \\u0422\\u0435\\u043c \\u043d\\u0435 \\u043c\\u0435\\u043d\\u0435\\u0435 \\u0441\\u043b\\u0443\\u0445\\u0438 \\u0441\\u0445\\u043e\\u0434\\u044f\\u0442\\u0441\\u044f \\u0432 \\u043e\\u0434\\u043d\\u043e\\u043c: Apple \\u0434\\u0435\\u0439\\u0441\\u0442\\u0432\\u0438\\u0442\\u0435\\u043b\\u044c\\u043d\\u043e \\u0433\\u043e\\u0442\\u043e\\u0432\\u0438\\u0442 \\u0438\\u0437\\u043c\\u0435\\u043d\\u0435\\u043d\\u0438\\u044f \\u0432 \\u0431\\u043b\\u043e\\u043a\\u0435 \\u043a\\u0430\\u043c\\u0435\\u0440, \\u0430 \\u043a\\u0430\\u043a\\u0438\\u043c \\u0431\\u0443\\u0434\\u0435\\u0442 \\u0438\\u0442\\u043e\\u0433\\u043e\\u0432\\u044b\\u0439 \\u0432\\u0430\\u0440\\u0438\\u0430\\u043d\\u0442, \\u043f\\u043e\\u043a\\u0430\\u0436\\u0443\\u0442 \\u0442\\u043e\\u043b\\u044c\\u043a\\u043e \\u0431\\u0443\\u0434\\u0443\\u0449\\u0438\\u0435 \\u0430\\u043d\\u043e\\u043d\\u0441\\u044b.\\u041d\\u043e\\u0432\\u043e\\u0441\\u0442\\u0438 \\u0438\\u0437 \\u043c\\u0438\\u0440\\u0430 \\u0442\\u0435\\u0445\\u043d\\u043e\\u043b\\u043e\\u0433\\u0438\\u0439\\ud83d\\udcf1Xiaomi \\u043f\\u0440\\u0435\\u0434\\u0441\\u0442\\u0430\\u0432\\u0438\\u043b\\u0430 \\u043c\\u0430\\u0441\\u0441\\u0430\\u0436\\u043d\\u044b\\u0439 \\u043a\\u043e\\u0432\\u0440\\u0438\\u043a \\u0441 28 \\u043f\\u043e\\u0434\\u0443\\u0448\\u043a\\u0430\\u043c\\u0438 \\u0438 \\u0444\\u0443\\u043d\\u043a\\u0446\\u0438\\u0435\\u0439 \\u043d\\u0430\\u0433\\u0440\\u0435\\u0432\\u0430\\u0422\\u0438\\u043c \\u041a\\u0443\\u043a \\u0430\\u043d\\u043e\\u043d\\u0441\\u0438\\u0440\\u043e\\u0432\\u0430\\u043b \\u00ab\\u043d\\u043e\\u0432\\u043e\\u0433\\u043e \\u0447\\u043b\\u0435\\u043d\\u0430 \\u0441\\u0435\\u043c\\u044c\\u0438\\u00bb \\u2014 \\u044d\\u0442\\u043e \\u0434\\u043e\\u043b\\u0436\\u0435\\u043d \\u0431\\u044b\\u0442\\u044c iPhone SE 4\\u041f\\u043e\\u044f\\u0432\\u0438\\u043b\\u0438\\u0441\\u044c \\u043f\\u043e\\u0434\\u0440\\u043e\\u0431\\u043d\\u043e\\u0441\\u0442\\u0438 \\u043e \\u0441\\u043c\\u0430\\u0440\\u0442\\u0444\\u043e\\u043d\\u0435 Samsung \\u0441 \\u0442\\u0440\\u043e\\u0439\\u043d\\u044b\\u043c \\u0441\\u043a\\u043b\\u0430\\u0434\\u044b\\u0432\\u0430\\u044e\\u0449\\u0438\\u043c\\u0441\\u044f \\u0434\\u0438\\u0441\\u043f\\u043b\\u0435\\u0435\\u043c\",\n          \"\\u0424\\u043b\\u0430\\u0433\\u043c\\u0430\\u043d\\u0441\\u043a\\u0438\\u0439 \\u0441\\u043c\\u0430\\u0440\\u0442\\u0444\\u043e\\u043d Xiaomi 15 Ultra, \\u043a\\u0430\\u043a \\u043e\\u0436\\u0438\\u0434\\u0430\\u0435\\u0442\\u0441\\u044f, \\u0431\\u0443\\u0434\\u0435\\u0442 \\u043f\\u0440\\u0435\\u0434\\u0441\\u0442\\u0430\\u0432\\u043b\\u0435\\u043d 26 \\u0444\\u0435\\u0432\\u0440\\u0430\\u043b\\u044f, \\u0430 \\u0435\\u0433\\u043e \\u0433\\u043b\\u043e\\u0431\\u0430\\u043b\\u044c\\u043d\\u044b\\u0439 \\u0437\\u0430\\u043f\\u0443\\u0441\\u043a \\u043c\\u043e\\u0436\\u0435\\u0442 \\u0441\\u043e\\u0441\\u0442\\u043e\\u044f\\u0442\\u044c\\u0441\\u044f \\u0432 \\u043d\\u0430\\u0447\\u0430\\u043b\\u0435 \\u043c\\u0430\\u0440\\u0442\\u0430. \\u0411\\u043b\\u0430\\u0433\\u043e\\u0434\\u0430\\u0440\\u044f \\u043c\\u043d\\u043e\\u0433\\u043e\\u0447\\u0438\\u0441\\u043b\\u0435\\u043d\\u043d\\u044b\\u043c \\u0443\\u0442\\u0435\\u0447\\u043a\\u0430\\u043c \\u0443\\u0436\\u0435 \\u0441\\u0435\\u0439\\u0447\\u0430\\u0441 \\u043c\\u043e\\u0436\\u043d\\u043e \\u0441\\u043e\\u0441\\u0442\\u0430\\u0432\\u0438\\u0442\\u044c \\u043f\\u0440\\u0435\\u0434\\u0441\\u0442\\u0430\\u0432\\u043b\\u0435\\u043d\\u0438\\u0435, \\u0447\\u0442\\u043e \\u043d\\u0430\\u0441\\u00a0\\u0436\\u0434\\u0451\\u0442.\\u041f\\u043e\\u0440\\u0442\\u0430\\u043b Android Headlines \\u043e\\u043f\\u0443\\u0431\\u043b\\u0438\\u043a\\u043e\\u0432\\u0430\\u043b \\u043e\\u0444\\u0438\\u0446\\u0438\\u0430\\u043b\\u044c\\u043d\\u044b\\u0435 \\u0440\\u0435\\u043d\\u0434\\u0435\\u0440\\u044b \\u0443\\u0441\\u0442\\u0440\\u043e\\u0439\\u0441\\u0442\\u0432\\u0430. \\u041d\\u0430 \\u0438\\u0437\\u043e\\u0431\\u0440\\u0430\\u0436\\u0435\\u043d\\u0438\\u044f\\u0445 \\u0432\\u0438\\u0434\\u0435\\u043d \\u043d\\u0435\\u043e\\u0431\\u044b\\u0447\\u043d\\u044b\\u0439 \\u0434\\u0432\\u0443\\u0445\\u0446\\u0432\\u0435\\u0442\\u043d\\u044b\\u0439 \\u0434\\u0438\\u0437\\u0430\\u0439\\u043d, \\u043e\\u0433\\u0440\\u043e\\u043c\\u043d\\u044b\\u0439 \\u043c\\u043e\\u0434\\u0443\\u043b\\u044c \\u0441 \\u043a\\u0430\\u043c\\u0435\\u0440\\u0430\\u043c\\u0438, \\u0430 \\u0442\\u0430\\u043a\\u0436\\u0435 \\u043a\\u043d\\u043e\\u043f\\u043a\\u0438 \\u043f\\u0438\\u0442\\u0430\\u043d\\u0438\\u044f \\u0438 \\u0440\\u0435\\u0433\\u0443\\u043b\\u0438\\u0440\\u043e\\u0432\\u043a\\u0438 \\u0433\\u0440\\u043e\\u043c\\u043a\\u043e\\u0441\\u0442\\u0438, \\u043a\\u043e\\u0442\\u043e\\u0440\\u044b\\u0435 \\u0442\\u0440\\u0430\\u0434\\u0438\\u0446\\u0438\\u043e\\u043d\\u043d\\u043e \\u0440\\u0430\\u0441\\u043f\\u043e\\u043b\\u043e\\u0436\\u0435\\u043d\\u044b \\u043d\\u0430 \\u043f\\u0440\\u0430\\u0432\\u043e\\u0439 \\u0441\\u0442\\u043e\\u0440\\u043e\\u043d\\u0435. \\u0420\\u0430\\u043c\\u043a\\u0430 \\u0432 \\u043e\\u0441\\u043d\\u043e\\u0432\\u043d\\u043e\\u043c \\u043f\\u043b\\u043e\\u0441\\u043a\\u0430\\u044f, \\u043d\\u043e \\u0438\\u0437\\u0433\\u0438\\u0431\\u0430\\u0435\\u0442\\u0441\\u044f \\u043a\\u00a0\\u043a\\u0440\\u0430\\u044f\\u043c.\\u0418\\u0437\\u043e\\u0431\\u0440\\u0430\\u0436\\u0435\\u043d\\u0438\\u0435: Android Headlines\\u0418\\u0437\\u0434\\u0430\\u043d\\u0438\\u0435 \\u0442\\u0430\\u043a\\u0436\\u0435 \\u0440\\u0430\\u0441\\u043a\\u0440\\u044b\\u043b\\u043e \\u043a\\u043b\\u044e\\u0447\\u0435\\u0432\\u044b\\u0435 \\u0445\\u0430\\u0440\\u0430\\u043a\\u0442\\u0435\\u0440\\u0438\\u0441\\u0442\\u0438\\u043a\\u0438: \\u0432 \\u043e\\u0441\\u043d\\u043e\\u0432\\u0435 \\u0442\\u0435\\u043b\\u0435\\u0444\\u043e\\u043d\\u0430 \\u043b\\u0435\\u0436\\u0438\\u0442 \\u0442\\u043e\\u043f\\u043e\\u0432\\u044b\\u0439 \\u043f\\u0440\\u043e\\u0446\\u0435\\u0441\\u0441\\u043e\\u0440 Snapdragon 8 Elite, \\u0434\\u043e\\u043f\\u043e\\u043b\\u043d\\u0435\\u043d\\u043d\\u044b\\u0439 16 \\u0413\\u0411 \\u043e\\u043f\\u0435\\u0440\\u0430\\u0442\\u0438\\u0432\\u043d\\u043e\\u0439 \\u043f\\u0430\\u043c\\u044f\\u0442\\u0438 \\u0438 \\u0445\\u0440\\u0430\\u043d\\u0438\\u043b\\u0438\\u0449\\u0435\\u043c \\u043e\\u0431\\u044a\\u0435\\u043c\\u043e\\u043c 512 \\u0438\\u043b\\u0438 1024 \\u0413\\u0411. \\u041e\\u043d \\u043e\\u0441\\u043d\\u0430\\u0449\\u0451\\u043d 6,7\\u2011\\u0434\\u044e\\u0439\\u043c\\u043e\\u0432\\u044b\\u043c LTPO AMOLED-\\u0434\\u0438\\u0441\\u043f\\u043b\\u0435\\u0435\\u043c \\u0441 \\u0440\\u0430\\u0437\\u0440\\u0435\\u0448\\u0435\\u043d\\u0438\\u0435\\u043c 3200\\u00a0\\u00d7\\u00a01440\\u00a0\\u043f\\u0438\\u043a\\u0441\\u0435\\u043b\\u0435\\u0439 \\u0438 \\u0447\\u0430\\u0441\\u0442\\u043e\\u0442\\u043e\\u0439 \\u043e\\u0431\\u043d\\u043e\\u0432\\u043b\\u0435\\u043d\\u0438\\u044f \\u0434\\u043e 120\\u00a0\\u0413\\u0446.\\u041d\\u0430 \\u0437\\u0430\\u0434\\u043d\\u0435\\u0439 \\u043f\\u0430\\u043d\\u0435\\u043b\\u0438 \\u0440\\u0430\\u0437\\u043c\\u0435\\u0449\\u0435\\u043d\\u044b \\u0447\\u0435\\u0442\\u044b\\u0440\\u0435 \\u043a\\u0430\\u043c\\u0435\\u0440\\u044b: \\u043e\\u0441\\u043d\\u043e\\u0432\\u043d\\u0430\\u044f \\u043d\\u0430 50 \\u041c\\u043f, \\u0441\\u0432\\u0435\\u0440\\u0445\\u0448\\u0438\\u0440\\u043e\\u043a\\u043e\\u0443\\u0433\\u043e\\u043b\\u044c\\u043d\\u0430\\u044f \\u043d\\u0430 50 \\u041c\\u043f, \\u0442\\u0435\\u043b\\u0435\\u0432\\u0438\\u043a \\u0431\\u043b\\u0438\\u0436\\u043d\\u0435\\u0433\\u043e \\u0434\\u0435\\u0439\\u0441\\u0442\\u0432\\u0438\\u044f \\u043d\\u0430 50 \\u041c\\u043f \\u0438 \\u0442\\u0435\\u043b\\u0435\\u043e\\u0431\\u044a\\u0435\\u043a\\u0442\\u0438\\u0432 \\u0434\\u0430\\u043b\\u044c\\u043d\\u0435\\u0433\\u043e \\u0434\\u0435\\u0439\\u0441\\u0442\\u0432\\u0438\\u044f \\u043d\\u0430 200 \\u041c\\u043f. \\u0414\\u043b\\u044f \\u0441\\u0435\\u043b\\u0444\\u0438 \\u043f\\u0440\\u0435\\u0434\\u043b\\u0430\\u0433\\u0430\\u0435\\u0442\\u0441\\u044f \\u0441\\u0435\\u043d\\u0441\\u043e\\u0440 \\u043d\\u0430 32\\u00a0\\u041c\\u043f.\\u0418\\u0437\\u043e\\u0431\\u0440\\u0430\\u0436\\u0435\\u043d\\u0438\\u0435: Android Headlines\\u0417\\u0430 \\u0430\\u0432\\u0442\\u043e\\u043d\\u043e\\u043c\\u043d\\u043e\\u0441\\u0442\\u044c \\u043e\\u0442\\u0432\\u0435\\u0447\\u0430\\u0435\\u0442 \\u0433\\u0438\\u0433\\u0430\\u043d\\u0442\\u0441\\u043a\\u0430\\u044f \\u0431\\u0430\\u0442\\u0430\\u0440\\u0435\\u044f \\u0451\\u043c\\u043a\\u043e\\u0441\\u0442\\u044c\\u044e 5 410 \\u043c\\u0410\\u00b7\\u0447 \\u0441 \\u043f\\u043e\\u0434\\u0434\\u0435\\u0440\\u0436\\u043a\\u043e\\u0439 \\u043f\\u0440\\u043e\\u0432\\u043e\\u0434\\u043d\\u043e\\u0439 \\u0437\\u0430\\u0440\\u044f\\u0434\\u043a\\u0438 \\u043c\\u043e\\u0449\\u043d\\u043e\\u0441\\u0442\\u044c\\u044e 90 \\u0412\\u0442 \\u0438 \\u0431\\u0435\\u0441\\u043f\\u0440\\u043e\\u0432\\u043e\\u0434\\u043d\\u043e\\u0439 \\u043d\\u0430 80 \\u0412\\u0442. \\u0418\\u0437 \\u043a\\u043e\\u0440\\u043e\\u0431\\u043a\\u0438 \\u043f\\u043e\\u043b\\u044c\\u0437\\u043e\\u0432\\u0430\\u0442\\u0435\\u043b\\u0438 \\u0431\\u0443\\u0434\\u0443\\u0442 \\u043f\\u043e\\u043b\\u0443\\u0447\\u0430\\u0442\\u044c HyperOS 2 \\u043d\\u0430 \\u0431\\u0430\\u0437\\u0435 Android 15.\\u0413\\u0430\\u0431\\u0430\\u0440\\u0438\\u0442\\u044b Xiaomi 15 Ultra \\u0441\\u043e\\u0441\\u0442\\u0430\\u0432\\u043b\\u044f\\u044e\\u0442 161,3 \\u00d7 75,3 \\u00d7 9,5 \\u043c\\u0438\\u043b\\u043b\\u0438\\u043c\\u0435\\u0442\\u0440\\u0430, \\u0430 \\u0432\\u0435\\u0441 \\u2014 229 \\u0433\\u0440\\u0430\\u043c\\u043c\\u043e\\u0432. \\u0416\\u0434\\u0451\\u0442\\u0435 \\u043f\\u0440\\u0435\\u043c\\u044c\\u0435\\u0440\\u0443 \\u0434\\u0435\\u0432\\u0430\\u0439\\u0441\\u0430?\\u0418\\u043d\\u0442\\u0435\\u0440\\u0435\\u0441\\u043d\\u043e\\u0435 \\u043f\\u0440\\u043e \\u0433\\u0430\\u0434\\u0436\\u0435\\u0442\\u044b\\ud83e\\udd14Garmin \\u0430\\u043d\\u043e\\u043d\\u0441\\u0438\\u0440\\u043e\\u0432\\u0430\\u043b\\u0430 Tactix 8 \\u2014 \\u0445\\u0430\\u0440\\u0434\\u043a\\u043e\\u0440\\u043d\\u044b\\u0435 \\u0447\\u0430\\u0441\\u044b \\u0432\\u043e\\u0435\\u043d\\u043d\\u043e\\u0433\\u043e \\u043a\\u043b\\u0430\\u0441\\u0441\\u0430 \\u0441 \\u0430\\u0432\\u0442\\u043e\\u043d\\u043e\\u043c\\u043d\\u043e\\u0441\\u0442\\u044c\\u044e 29 \\u0434\\u043d\\u0435\\u0439Google Play \\u043d\\u0430\\u0447\\u0430\\u043b \\u0440\\u0430\\u0441\\u043a\\u0440\\u044b\\u0432\\u0430\\u0442\\u044c \\u043f\\u043e\\u043b\\u044c\\u0437\\u043e\\u0432\\u0430\\u0442\\u0435\\u043b\\u044f\\u043c \\u0441\\u043a\\u0440\\u044b\\u0442\\u0443\\u044e \\u0438\\u043d\\u0444\\u043e\\u0440\\u043c\\u0430\\u0446\\u0438\\u044e \\u043e \\u043f\\u0440\\u0438\\u043b\\u043e\\u0436\\u0435\\u043d\\u0438\\u044f\\u0445Samsung \\u0440\\u0430\\u0441\\u043a\\u0440\\u044b\\u043b\\u0430 \\u043f\\u0440\\u0438\\u0447\\u0438\\u043d\\u0443 \\u0437\\u0430\\u0434\\u0435\\u0440\\u0436\\u043a\\u0438 One UI 7\"\n        ],\n        \"semantic_type\": \"\",\n        \"description\": \"\"\n      }\n    }\n  ]\n}"
            }
          },
          "metadata": {},
          "execution_count": 77
        }
      ]
    }
  ]
}