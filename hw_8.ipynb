{
  "nbformat": 4,
  "nbformat_minor": 0,
  "metadata": {
    "colab": {
      "provenance": []
    },
    "kernelspec": {
      "name": "python3",
      "display_name": "Python 3"
    },
    "language_info": {
      "name": "python"
    }
  },
  "cells": [
    {
      "cell_type": "code",
      "execution_count": 1,
      "metadata": {
        "id": "a_7J__6WVEa-"
      },
      "outputs": [],
      "source": [
        "import requests\n",
        "import pandas as pd"
      ]
    },
    {
      "cell_type": "markdown",
      "source": [
        "### Получить информацию обо всех книгах и сохранить в pd.DataFrame - 1 балл"
      ],
      "metadata": {
        "id": "T8oOp6w9L1Dn"
      }
    },
    {
      "cell_type": "code",
      "source": [
        "books_url = \"https://www.anapioficeandfire.com/api/books\"\n",
        "books = requests.get(books_url).json()\n",
        "books_df = pd.DataFrame(books)\n",
        "\n",
        "print(books_df.head())"
      ],
      "metadata": {
        "colab": {
          "base_uri": "https://localhost:8080/"
        },
        "id": "0a4XayCSVaCE",
        "outputId": "c08f6cef-2732-4ca6-c6b1-0a4253b3861c"
      },
      "execution_count": 2,
      "outputs": [
        {
          "output_type": "stream",
          "name": "stdout",
          "text": [
            "                                             url               name  \\\n",
            "0  https://www.anapioficeandfire.com/api/books/1  A Game of Thrones   \n",
            "1  https://www.anapioficeandfire.com/api/books/2   A Clash of Kings   \n",
            "2  https://www.anapioficeandfire.com/api/books/3  A Storm of Swords   \n",
            "3  https://www.anapioficeandfire.com/api/books/4   The Hedge Knight   \n",
            "4  https://www.anapioficeandfire.com/api/books/5  A Feast for Crows   \n",
            "\n",
            "             isbn                authors  numberOfPages  \\\n",
            "0  978-0553103540  [George R. R. Martin]            694   \n",
            "1  978-0553108033  [George R. R. Martin]            768   \n",
            "2  978-0553106633  [George R. R. Martin]            992   \n",
            "3  978-0976401100  [George R. R. Martin]            164   \n",
            "4  978-0553801507  [George R. R. Martin]            784   \n",
            "\n",
            "                   publisher        country     mediaType  \\\n",
            "0               Bantam Books  United States     Hardcover   \n",
            "1               Bantam Books  United States      Hardback   \n",
            "2               Bantam Books  United States     Hardcover   \n",
            "3  Dabel Brothers Publishing  United States  GraphicNovel   \n",
            "4               Bantam Books  United Status     Hardcover   \n",
            "\n",
            "              released                                         characters  \\\n",
            "0  1996-08-01T00:00:00  [https://www.anapioficeandfire.com/api/charact...   \n",
            "1  1999-02-02T00:00:00  [https://www.anapioficeandfire.com/api/charact...   \n",
            "2  2000-10-31T00:00:00  [https://www.anapioficeandfire.com/api/charact...   \n",
            "3  2005-03-09T00:00:00  [https://www.anapioficeandfire.com/api/charact...   \n",
            "4  2005-11-08T00:00:00  [https://www.anapioficeandfire.com/api/charact...   \n",
            "\n",
            "                                       povCharacters  \n",
            "0  [https://www.anapioficeandfire.com/api/charact...  \n",
            "1  [https://www.anapioficeandfire.com/api/charact...  \n",
            "2  [https://www.anapioficeandfire.com/api/charact...  \n",
            "3  [https://www.anapioficeandfire.com/api/charact...  \n",
            "4  [https://www.anapioficeandfire.com/api/charact...  \n"
          ]
        }
      ]
    },
    {
      "cell_type": "markdown",
      "source": [
        "### Получить информацию обо всех домах Вестероса (Houses) и сохранить в pd.DataFrame - 1 балл"
      ],
      "metadata": {
        "id": "JhW4BZ2KMGB0"
      }
    },
    {
      "cell_type": "code",
      "source": [
        "all_houses = []\n",
        "page = 1\n",
        "\n",
        "while True:\n",
        "    url = f\"https://anapioficeandfire.com/api/houses?region=The Westerlands&page={page}&pageSize=50\"\n",
        "    response = requests.get(url)\n",
        "    data = response.json()\n",
        "    if not data:\n",
        "        break\n",
        "    all_houses.extend(data)\n",
        "    page += 1\n",
        "\n",
        "df = pd.DataFrame(all_houses)\n",
        "print(df[[\"name\", \"region\", \"words\"]].head())"
      ],
      "metadata": {
        "colab": {
          "base_uri": "https://localhost:8080/"
        },
        "id": "uX53XMfIVaE6",
        "outputId": "3b765bb9-337f-46fb-89b5-424beca8518d"
      },
      "execution_count": 9,
      "outputs": [
        {
          "output_type": "stream",
          "name": "stdout",
          "text": [
            "                         name           region words\n",
            "0                House Algood  The Westerlands      \n",
            "1  House Banefort of Banefort  The Westerlands      \n",
            "2               House Bettley  The Westerlands      \n",
            "3      House Brax of Hornvale  The Westerlands      \n",
            "4                 House Broom  The Westerlands      \n"
          ]
        }
      ]
    },
    {
      "cell_type": "markdown",
      "source": [
        "### Получить информацию обо всех домах Вестероса, у которых есть девиз, и сохранить в pd.DataFrame - 2 балла"
      ],
      "metadata": {
        "id": "-4Bn3QpANIrA"
      }
    },
    {
      "cell_type": "code",
      "source": [
        "all_houses_with_words = []\n",
        "page = 1\n",
        "\n",
        "while True:\n",
        "    url = f\"https://anapioficeandfire.com/api/houses?region=The Westerlands&hasWords=true&page={page}&pageSize=50\"\n",
        "    response = requests.get(url)\n",
        "    data = response.json()\n",
        "    if not data:\n",
        "        break\n",
        "    all_houses_with_words.extend(data)\n",
        "    page += 1\n",
        "\n",
        "df_westerlands_words = pd.DataFrame(all_houses_with_words)\n",
        "print(df_westerlands_words[[\"name\", \"region\", \"words\"]].head(15))"
      ],
      "metadata": {
        "colab": {
          "base_uri": "https://localhost:8080/"
        },
        "id": "aiGSlhtZVaHo",
        "outputId": "a2ae084e-1a2b-4c0d-ea84-a917577e43f8"
      },
      "execution_count": 10,
      "outputs": [
        {
          "output_type": "stream",
          "name": "stdout",
          "text": [
            "                               name           region              words\n",
            "0      House Crakehall of Crakehall  The Westerlands     None so Fierce\n",
            "1  House Lannister of Casterly Rock  The Westerlands      Hear Me Roar!\n",
            "2        House Marbrand of Ashemark  The Westerlands     Burning bright\n",
            "3                   House Peckledon  The Westerlands        Unflinching\n",
            "4                       House Plumm  The Westerlands        Come Try Me\n",
            "5       House Prester of Feastfires  The Westerlands           Tireless\n",
            "6      House Sarsfield of Sarsfield  The Westerlands   True to the Mark\n",
            "7       House Serrett of Silverhill  The Westerlands    I Have No Rival\n",
            "8          House Swyft of Cornfield  The Westerlands      Awake! Awake!\n",
            "9      House Westerling of the Crag  The Westerlands  Honor, Not Honors\n"
          ]
        }
      ]
    },
    {
      "cell_type": "code",
      "source": [
        "!pip install psycopg2-binary"
      ],
      "metadata": {
        "colab": {
          "base_uri": "https://localhost:8080/"
        },
        "id": "zRKRfnnVVaKK",
        "outputId": "0a3aad56-4fc3-4a94-961a-87c87efc225f"
      },
      "execution_count": 11,
      "outputs": [
        {
          "output_type": "stream",
          "name": "stdout",
          "text": [
            "Collecting psycopg2-binary\n",
            "  Downloading psycopg2_binary-2.9.10-cp311-cp311-manylinux_2_17_x86_64.manylinux2014_x86_64.whl.metadata (4.9 kB)\n",
            "Downloading psycopg2_binary-2.9.10-cp311-cp311-manylinux_2_17_x86_64.manylinux2014_x86_64.whl (3.0 MB)\n",
            "\u001b[2K   \u001b[90m━━━━━━━━━━━━━━━━━━━━━━━━━━━━━━━━━━━━━━━━\u001b[0m \u001b[32m3.0/3.0 MB\u001b[0m \u001b[31m26.6 MB/s\u001b[0m eta \u001b[36m0:00:00\u001b[0m\n",
            "\u001b[?25hInstalling collected packages: psycopg2-binary\n",
            "Successfully installed psycopg2-binary-2.9.10\n"
          ]
        }
      ]
    },
    {
      "cell_type": "markdown",
      "source": [
        "### Подключиться к БД - 1 балл"
      ],
      "metadata": {
        "id": "CgOmKH1JNiU_"
      }
    },
    {
      "cell_type": "code",
      "source": [
        "import psycopg2\n",
        "\n",
        "conn = psycopg2.connect(\n",
        "    host=\"hh-pgsql-public.ebi.ac.uk\",\n",
        "    port=\"5432\",\n",
        "    database=\"pfmegrnargs\",\n",
        "    user=\"reader\",\n",
        "    password=\"NWDMCE5xdipIjRrp\"\n",
        ")"
      ],
      "metadata": {
        "id": "YqVKdYgZVaMV"
      },
      "execution_count": 13,
      "outputs": []
    },
    {
      "cell_type": "markdown",
      "source": [
        "### Получите 10 строк из таблицы rnc_database - 2 балла + Сохраните полученные данные в pd.DataFrame - 1 балл"
      ],
      "metadata": {
        "id": "NP-R4320Nz9c"
      }
    },
    {
      "cell_type": "code",
      "source": [
        "cursor = conn.cursor()\n",
        "cursor.execute(\"SELECT * FROM rnc_database LIMIT 10\")\n",
        "rows = cursor.fetchall()\n",
        "\n",
        "columns = [desc[0] for desc in cursor.description]\n",
        "\n",
        "df_rnc_10 = pd.DataFrame(rows, columns=columns)\n",
        "print(df_rnc_10.head())"
      ],
      "metadata": {
        "colab": {
          "base_uri": "https://localhost:8080/"
        },
        "id": "6d5LC2L0LwVf",
        "outputId": "9de42f4e-1a81-432d-a4ed-285e04e720a2"
      },
      "execution_count": 14,
      "outputs": [
        {
          "output_type": "stream",
          "name": "stdout",
          "text": [
            "   id                  timestamp userstamp      descr  current_release  \\\n",
            "0   1 2017-05-01 00:00:00.000000    RNACEN        ENA              884   \n",
            "1   5 2017-05-17 00:00:00.000000    RNACEN       VEGA               98   \n",
            "2  26 2017-05-01 00:00:00.000000    RNACEN    GENCODE              450   \n",
            "3  55 2023-10-10 15:02:45.191606    RNACEN     MGNIFY              839   \n",
            "4  41 2017-05-01 00:00:00.000000    RNACEN  GENECARDS              867   \n",
            "\n",
            "  full_descr alive for_release display_name project_id  avg_length  \\\n",
            "0        ENA     Y                      ENA                  412.0   \n",
            "1       VEGA     N                     VEGA  PRJEB4568         NaN   \n",
            "2    GENCODE     N                  GENCODE                  889.0   \n",
            "3     MGnify     Y        None       MGnify       None       151.0   \n",
            "4  MalaCards     Y                GeneCards                 1298.0   \n",
            "\n",
            "   min_length  max_length  num_sequences  num_organisms  \\\n",
            "0        10.0    900074.0       12086180         814855   \n",
            "1         NaN         NaN              0              0   \n",
            "2        32.0    205012.0          47677              2   \n",
            "3        27.0      3514.0         135924           1929   \n",
            "4        16.0    347561.0         517673              1   \n",
            "\n",
            "                                         description  \\\n",
            "0  provides a comprehensive record of the world's...   \n",
            "1  is a repository for high-quality gene models p...   \n",
            "2  produces high quality reference gene annotatio...   \n",
            "3                                               None   \n",
            "4  is a searchable, integrative database that pro...   \n",
            "\n",
            "                                  url  \\\n",
            "0  https://www.ebi.ac.uk/ena/browser/   \n",
            "1           http://vega.sanger.ac.uk/   \n",
            "2            http://gencodegenes.org/   \n",
            "3                                None   \n",
            "4          https://www.genecards.org/   \n",
            "\n",
            "                                             example  \\\n",
            "0  [{'upi': 'URS00002D0E0C', 'taxid': 10090}, {'u...   \n",
            "1  [{'upi': 'URS00000B15DA', 'taxid': 9606}, {'up...   \n",
            "2  [{'upi': 'URS00000B15DA', 'taxid': 9606}, {'up...   \n",
            "3                                               None   \n",
            "4  [{'upi': 'URS0000EBFCE3', 'taxid': 9606}, {'up...   \n",
            "\n",
            "                                           reference  \n",
            "0  [{'title': 'The European Nucleotide Archive in...  \n",
            "1  [{'title': 'The GENCODE v7 catalog of human lo...  \n",
            "2  [{'title': 'GENCODE: the reference human genom...  \n",
            "3                                               None  \n",
            "4  [{'title': 'The GeneCards Suite: From Gene Dat...  \n"
          ]
        }
      ]
    },
    {
      "cell_type": "markdown",
      "source": [
        "### Получите значения столбцов display_name, num_sequences, num_organisms, , url для 10 строк из таблицы rnc_database - 2 балла"
      ],
      "metadata": {
        "id": "TzB0HRtOOD0C"
      }
    },
    {
      "cell_type": "code",
      "source": [
        "cursor.execute(\"\"\"\n",
        "    SELECT display_name, num_sequences, num_organisms, url\n",
        "    FROM rnc_database\n",
        "    LIMIT 10\n",
        "\"\"\")\n",
        "rows_filtered = cursor.fetchall()\n",
        "columns_filtered = [desc[0] for desc in cursor.description]\n",
        "\n",
        "df_rnc_filtered = pd.DataFrame(rows_filtered, columns=columns_filtered)\n",
        "print(df_rnc_filtered.head())"
      ],
      "metadata": {
        "colab": {
          "base_uri": "https://localhost:8080/"
        },
        "id": "ACgtgyJDLwX7",
        "outputId": "a9072796-3e9b-4be1-991e-49b80c398642"
      },
      "execution_count": 15,
      "outputs": [
        {
          "output_type": "stream",
          "name": "stdout",
          "text": [
            "  display_name  num_sequences  num_organisms  \\\n",
            "0          ENA       12086180         814855   \n",
            "1         VEGA              0              0   \n",
            "2      GENCODE          47677              2   \n",
            "3       MGnify         135924           1929   \n",
            "4    GeneCards         517673              1   \n",
            "\n",
            "                                  url  \n",
            "0  https://www.ebi.ac.uk/ena/browser/  \n",
            "1           http://vega.sanger.ac.uk/  \n",
            "2            http://gencodegenes.org/  \n",
            "3                                None  \n",
            "4          https://www.genecards.org/  \n"
          ]
        }
      ]
    }
  ]
}